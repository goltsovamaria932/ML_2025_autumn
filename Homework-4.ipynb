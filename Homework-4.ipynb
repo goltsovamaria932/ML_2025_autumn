{
  "nbformat": 4,
  "nbformat_minor": 0,
  "metadata": {
    "colab": {
      "provenance": [],
      "authorship_tag": "ABX9TyODfmblrQ/e74CthBWo5h6B",
      "include_colab_link": true
    },
    "kernelspec": {
      "name": "python3",
      "display_name": "Python 3"
    },
    "language_info": {
      "name": "python"
    }
  },
  "cells": [
    {
      "cell_type": "markdown",
      "metadata": {
        "id": "view-in-github",
        "colab_type": "text"
      },
      "source": [
        "<a href=\"https://colab.research.google.com/github/goltsovamaria932/ML_2025_autumn/blob/main/Homework-4.ipynb\" target=\"_parent\"><img src=\"https://colab.research.google.com/assets/colab-badge.svg\" alt=\"Open In Colab\"/></a>"
      ]
    },
    {
      "cell_type": "markdown",
      "source": [
        "## Библиотеки для анализа данных\n",
        "\n",
        "### NumPy\n",
        "\n",
        "Во всех заданиях данного раздела запрещено использовать циклы  и list comprehensions. Под вектором и матрицей в данных заданиях понимается одномерный и двумерный numpy.array соответственно."
      ],
      "metadata": {
        "id": "aSo9tj5adjl6"
      }
    },
    {
      "cell_type": "code",
      "source": [
        "import numpy as np"
      ],
      "metadata": {
        "id": "dcWMviCrePoX"
      },
      "execution_count": 65,
      "outputs": []
    },
    {
      "cell_type": "markdown",
      "source": [
        "**1. (0.2 балла)** Реализуйте функцию, возвращающую максимальный элемент в векторе x среди элементов, перед которыми стоит нулевой. Для x = np.array([6, 2, 0, 3, 0, 0, 5, 7, 0]) ответом является 5. Если нулевых элементов нет, функция должна возвращать None.\n"
      ],
      "metadata": {
        "id": "UncvtketeL-g"
      }
    },
    {
      "cell_type": "code",
      "source": [
        "def max_element(arr):\n",
        "    zero_mask = arr[:-1] == 0\n",
        "\n",
        "    if not np.any(zero_mask):\n",
        "        return None\n",
        "\n",
        "    elements_after_zeros = arr[1:][zero_mask]\n",
        "\n",
        "    return np.max(elements_after_zeros)\n",
        "\n",
        "x = np.array([6, 2, 0, 3, 0, 0, 5, 7, 0])\n",
        "result = max_element(x)\n",
        "print(result)"
      ],
      "metadata": {
        "colab": {
          "base_uri": "https://localhost:8080/"
        },
        "id": "sIfHyq1meJQC",
        "outputId": "f6a7f594-3ec5-4c8f-b9cb-25ce40178118"
      },
      "execution_count": 66,
      "outputs": [
        {
          "output_type": "stream",
          "name": "stdout",
          "text": [
            "5\n"
          ]
        }
      ]
    },
    {
      "cell_type": "markdown",
      "source": [
        "**2. (0.2 балла)** Реализуйте функцию, принимающую на вход матрицу и некоторое число и возвращающую ближайший к числу элемент матрицы. Например: для X = np.arange(0,10).reshape((2, 5)) и v = 3.6 ответом будет 4."
      ],
      "metadata": {
        "id": "HWG_alDRtfH6"
      }
    },
    {
      "cell_type": "code",
      "source": [
        "def nearest_value(X, v):\n",
        "    absolute_diff = np.abs(X - v)\n",
        "    min_diff = np.min(absolute_diff)\n",
        "    nearest_elements = X[absolute_diff == min_diff]\n",
        "\n",
        "    return nearest_elements[0]\n",
        "\n",
        "X = np.arange(0,10).reshape((2, 5))\n",
        "v = 3.6\n",
        "result = nearest_value(X, v)\n",
        "print(result)"
      ],
      "metadata": {
        "colab": {
          "base_uri": "https://localhost:8080/"
        },
        "id": "ETvikaNVtyV5",
        "outputId": "2c6cc073-8782-49c8-c63b-1fc187c25f95"
      },
      "execution_count": 67,
      "outputs": [
        {
          "output_type": "stream",
          "name": "stdout",
          "text": [
            "4\n"
          ]
        }
      ]
    },
    {
      "cell_type": "markdown",
      "source": [
        "**3. (0.2 балла)** Реализуйте функцию scale(X), которая принимает на вход матрицу и масштабирует каждый ее столбец (вычитает выборочное среднее и делит на стандартное отклонение). Убедитесь, что в функции не будет происходить деления на ноль. Протестируйте на случайной матрице (для её генерации можно использовать, например, функцию [numpy.random.randint](http://docs.scipy.org/doc/numpy/reference/generated/numpy.random.randint.html))."
      ],
      "metadata": {
        "id": "f-01XpYpumV9"
      }
    },
    {
      "cell_type": "code",
      "source": [
        "def scale(X):\n",
        "    column_means = np.mean(X, axis=0)\n",
        "    column_stds = np.std(X, axis=0)\n",
        "\n",
        "    safe_stds = np.where(column_stds == 0, 1, column_stds)\n",
        "\n",
        "    scaled_X = (X - column_means) / safe_stds\n",
        "\n",
        "    return scaled_X\n",
        "\n",
        "X = np.random.randint(0, 10, size=(4, 5))\n",
        "print(X)\n",
        "\n",
        "scaled_result = scale(X)\n",
        "print(scaled_result)"
      ],
      "metadata": {
        "colab": {
          "base_uri": "https://localhost:8080/"
        },
        "id": "MW0688ThuvmD",
        "outputId": "201f112a-9930-49ae-99bf-fb618f3860e1"
      },
      "execution_count": 69,
      "outputs": [
        {
          "output_type": "stream",
          "name": "stdout",
          "text": [
            "[[8 2 0 7 9]\n",
            " [2 4 2 6 3]\n",
            " [5 7 8 0 8]\n",
            " [1 2 2 3 5]]\n",
            "[[ 1.46059349 -0.85518611 -1.          1.09544512  1.15311332]\n",
            " [-0.73029674  0.12216944 -0.33333333  0.73029674 -1.36277029]\n",
            " [ 0.36514837  1.58820278  1.66666667 -1.46059349  0.73379939]\n",
            " [-1.09544512 -0.85518611 -0.33333333 -0.36514837 -0.52414242]]\n"
          ]
        }
      ]
    },
    {
      "cell_type": "markdown",
      "source": [
        "**4. (0.2 балла)** Реализуйте функцию, которая для заданной матрицы находит:\n",
        " - определитель\n",
        " - след\n",
        " - наименьший и наибольший элементы\n",
        " - норму Фробениуса\n",
        " - собственные числа\n",
        " - обратную матрицу\n",
        "\n",
        "Для тестирования сгенерируйте матрицу с элементами из нормального распределения $\\mathcal{N}$(10,1)"
      ],
      "metadata": {
        "id": "dYBN1e9twbX3"
      }
    },
    {
      "cell_type": "code",
      "source": [
        "import numpy as np\n",
        "\n",
        "def get_stats(X):\n",
        "\n",
        "    if X.shape[0] != X.shape[1]:\n",
        "        raise ValueError(\"Матрица должна быть квадратной\")\n",
        "\n",
        "    stats = {}\n",
        "\n",
        "    # Определитель\n",
        "    stats['determinant'] = np.linalg.det(X)\n",
        "\n",
        "    # След матрицы\n",
        "    stats['trace'] = np.trace(X)\n",
        "\n",
        "    # Наименьший и наибольший элементы\n",
        "    stats['min_element'] = np.min(X)\n",
        "    stats['max_element'] = np.max(X)\n",
        "\n",
        "    # Норма Фробениуса\n",
        "    stats['frobenius_norm'] = np.linalg.norm(X, 'fro')\n",
        "\n",
        "    # Собственные числа\n",
        "    stats['eigenvalues'] = np.linalg.eigvals(X)\n",
        "\n",
        "    # Обратная матрица\n",
        "    if stats['determinant'] != 0:\n",
        "        stats['inverse'] = np.linalg.inv(X)\n",
        "    else:\n",
        "        stats['inverse'] = None\n",
        "\n",
        "    return stats\n",
        "\n",
        "X = np.random.normal(10, 1, size=(3, 3))\n",
        "print(X)\n",
        "print(\"\\n\")\n",
        "\n",
        "stats = get_stats(X)\n",
        "\n",
        "print(f\"1. Определитель: {stats['determinant']:.6f}\")\n",
        "print(f\"2. След матрицы: {stats['trace']:.6f}\")\n",
        "print(f\"3. Наименьший элемент: {stats['min_element']:.6f}\")\n",
        "print(f\"4. Наибольший элемент: {stats['max_element']:.6f}\")\n",
        "print(f\"5. Норма Фробениуса: {stats['frobenius_norm']:.6f}\")\n",
        "print(f\"6. Собственные числа: {[f'{val:.6f}' for val in stats['eigenvalues']]}\")\n",
        "\n",
        "if stats['inverse'] is not None:\n",
        "    print(\"7. Обратная матрица:\")\n",
        "    print(stats['inverse'])\n",
        "else:\n",
        "    print(\"7. Обратная матрица: не существует (определитель = 0)\")"
      ],
      "metadata": {
        "colab": {
          "base_uri": "https://localhost:8080/"
        },
        "id": "f8dKIinHwcLm",
        "outputId": "db2dd7d7-0753-4f97-f0eb-5d4bffe9de35"
      },
      "execution_count": 70,
      "outputs": [
        {
          "output_type": "stream",
          "name": "stdout",
          "text": [
            "[[12.21969785 10.23980106  9.64291072]\n",
            " [11.07049103  8.93668905 10.77465722]\n",
            " [11.31906556  9.62205155 10.70708837]]\n",
            "\n",
            "\n",
            "1. Определитель: -10.788224\n",
            "2. След матрицы: 31.863475\n",
            "3. Наименьший элемент: 8.936689\n",
            "4. Наибольший элемент: 12.219698\n",
            "5. Норма Фробениуса: 31.638909\n",
            "6. Собственные числа: ['31.550126', '0.762056', '-0.448706']\n",
            "7. Обратная матрица:\n",
            "[[ 0.74047295  1.56224706 -2.23898321]\n",
            " [-0.3175987  -2.0104001   2.30911963]\n",
            " [-0.4973818   0.15513055  0.38523356]]\n"
          ]
        }
      ]
    },
    {
      "cell_type": "markdown",
      "source": [
        "**5. (0.2 балла)** Повторите 100 раз следующий эксперимент: сгенерируйте две матрицы размера 10×10 из стандартного нормального распределения, перемножьте их (как матрицы) и найдите максимальный элемент. Какое среднее значение по экспериментам у максимальных элементов? 95-процентная квантиль?"
      ],
      "metadata": {
        "id": "lmDKxz_7xaAc"
      }
    },
    {
      "cell_type": "code",
      "source": [
        "max_elements = []\n",
        "\n",
        "for exp_num in range(100):\n",
        "    A = np.random.randn(10, 10)\n",
        "    B = np.random.randn(10, 10)\n",
        "\n",
        "    C = np.dot(A, B)\n",
        "\n",
        "    max_element = np.max(C)\n",
        "\n",
        "    max_elements.append(max_element)\n",
        "\n",
        "max_elements = np.array(max_elements)\n",
        "\n",
        "mean_max = np.mean(max_elements)\n",
        "\n",
        "quantile_95 = np.percentile(max_elements, 95)\n",
        "\n",
        "print(f\"Среднее значение максимальных элементов: {mean_max:.4f}\")\n",
        "print(f\"95-процентная квантиль: {quantile_95:.4f}\")"
      ],
      "metadata": {
        "colab": {
          "base_uri": "https://localhost:8080/"
        },
        "id": "Y5mknuIkxbJD",
        "outputId": "77206039-49b4-43fc-c410-8c5ccbb97994"
      },
      "execution_count": 72,
      "outputs": [
        {
          "output_type": "stream",
          "name": "stdout",
          "text": [
            "Среднее значение максимальных элементов: 8.5113\n",
            "95-процентная квантиль: 12.0034\n"
          ]
        }
      ]
    },
    {
      "cell_type": "markdown",
      "source": [
        "### Pandas\n",
        "\n",
        "![](https://metrouk2.files.wordpress.com/2015/10/panda.jpg)\n",
        "\n",
        "#### Ответьте на вопросы о данных по авиарейсам в США за январь-апрель 2008 года.\n",
        "\n",
        "Данные находятся в приложенном файле `2008.csv`. Их [описание](http://stat-computing.org/dataexpo/2009/the-data.html) приведено ниже:"
      ],
      "metadata": {
        "id": "pBBp7kFW0goX"
      }
    },
    {
      "cell_type": "markdown",
      "source": [
        "Airline on-time performance\n",
        "\n",
        "Have you ever been stuck in an airport because your flight was delayed or cancelled and wondered if you could have predicted it if you'd had more data? This is your chance to find out.\n",
        "\n",
        "The data\n",
        "The data set is available for download here.\n",
        "The data consists of flight arrival and departure details for all commercial flights within the USA, from October 1987 to April 2008. This is a large dataset: there are nearly 120 million records in total, and takes up 1.6 gigabytes of space compressed and 12 gigabytes when uncompressed.\n",
        "\n",
        "Understanding and preparing the data\n",
        "In order to answer above questions, we are going to analyze the provided dataset, containing up to 1936758 ### different internal flights in the US for 2008 and their causes for delay, diversion and cancellation\n",
        "\n",
        "The data comes from the U.S. Department of Transportation’s (DOT) Bureau of Transportation Statistics (BTS). Meta data explanations\n",
        "\n",
        "This dataset is composed by the following variables:\n",
        "\n",
        "**Year** 2008 **Month** 1-12 **DayofMonth** 1-31 **DayOfWeek** 1 (Monday) - 7 (Sunday)  \n",
        "**DepTime** actual departure time (local, hhmm)  \n",
        "**CRSDepTime** scheduled departure time (local, hhmm)  \n",
        "**ArrTime** actual arrival time (local, hhmm)  \n",
        "**CRSArrTime** scheduled arrival time (local, hhmm)  \n",
        "**UniqueCarrier** unique carrier code  \n",
        "**FlightNum** flight number  \n",
        "**TailNum** plane tail number: aircraft registration, unique aircraft identifier  \n",
        "**ActualElapsedTime** in minutes  \n",
        "**CRSElapsedTime** in minutes  \n",
        "**AirTime** in minutes  \n",
        "**ArrDelay** arrival delay, in minutes: A flight is counted as “on time” if it operated less than 15 minutes later the scheduled time shown in the carriers’ Computerized Reservations Systems (CRS).  \n",
        "**DepDelay** departure delay, in minutes  \n",
        "**Origin** origin IATA airport code  \n",
        "**Dest** destination IATA airport code  \n",
        "**Distance** in miles  \n",
        "**TaxiIn** taxi in time, in minutes  \n",
        "**TaxiOut** taxi out time in minutes  \n",
        "**Cancelled** *was the flight cancelled  \n",
        "**CancellationCode** reason for cancellation (A = carrier, B = weather, C = NAS, D = security)  \n",
        "**Diverted** 1 = yes, 0 = no  \n",
        "**CarrierDelay** in minutes: Carrier delay is within the control of the air carrier. Examples of occurrences that may determine carrier delay are: aircraft cleaning, aircraft damage, awaiting the arrival of connecting passengers or crew, baggage, bird strike, cargo loading, catering, computer, outage-carrier equipment, crew legality (pilot or attendant rest), damage by hazardous goods, engineering inspection, fueling, handling disabled passengers, late crew, lavatory servicing, maintenance, oversales, potable water servicing, removal of unruly passenger, slow boarding or seating, stowing carry-on baggage, weight and balance delays.  \n",
        "**WeatherDelay** in minutes: Weather delay is caused by extreme or hazardous weather conditions that are forecasted or manifest themselves on point of departure, enroute, or on point of arrival.  \n",
        "**NASDelay** in minutes: Delay that is within the control of the National Airspace System (NAS) may include: non-extreme weather conditions, airport operations, heavy traffic volume, air traffic control, etc.  \n",
        "**SecurityDelay** in minutes: Security delay is caused by evacuation of a terminal or concourse, re-boarding of aircraft because of security breach, inoperative screening equipment and/or long lines in excess of 29 minutes at screening areas.  \n",
        "**LateAircraftDelay** in minutes: Arrival delay at an airport due to the late arrival of the same aircraft at a previous airport. The ripple effect of an earlier delay at downstream airports is referred to as delay propagation."
      ],
      "metadata": {
        "id": "M5PwyBZC0iiD"
      }
    },
    {
      "cell_type": "code",
      "source": [
        "import pandas as pd"
      ],
      "metadata": {
        "id": "xb_zvjt-H32f"
      },
      "execution_count": 73,
      "outputs": []
    },
    {
      "cell_type": "markdown",
      "source": [
        "**6. (0.3 балла)** Какая из причин отмены рейса (`CancellationCode`) была самой частой? (расшифровки кодов можно найти в описании данных)"
      ],
      "metadata": {
        "id": "OuX9tVqJHnPR"
      }
    },
    {
      "cell_type": "code",
      "source": [
        "avia = pd.read_csv('2008.csv')\n",
        "avia"
      ],
      "metadata": {
        "colab": {
          "base_uri": "https://localhost:8080/",
          "height": 443
        },
        "id": "b4E3vaQllITH",
        "outputId": "f90b0b47-8b5f-4dfe-c17f-28ddddbac5a0"
      },
      "execution_count": 74,
      "outputs": [
        {
          "output_type": "execute_result",
          "data": {
            "text/plain": [
              "       Year  Month  DayofMonth  DayOfWeek  DepTime  CRSDepTime  ArrTime  \\\n",
              "0      2008      6          18          3   2111.0        2055   2308.0   \n",
              "1      2008      6           4          3   1426.0        1410   1730.0   \n",
              "2      2008      8           3          7   1143.0        1145   1501.0   \n",
              "3      2008      1          23          3   1141.0        1144   1323.0   \n",
              "4      2008      5           4          7    815.0         820   1243.0   \n",
              "...     ...    ...         ...        ...      ...         ...      ...   \n",
              "69995  2008      5          12          1   1829.0        1840   2137.0   \n",
              "69996  2008      5          11          7   1149.0        1125   1336.0   \n",
              "69997  2008      9          24          3   1012.0        1012   1132.0   \n",
              "69998  2008      2          18          1   1906.0        1900   2200.0   \n",
              "69999  2008     12           6          6    859.0         900    959.0   \n",
              "\n",
              "       CRSArrTime UniqueCarrier  FlightNum  ... TaxiIn  TaxiOut  Cancelled  \\\n",
              "0            2300            WN        242  ...    3.0      8.0          0   \n",
              "1            1728            XE       2380  ...    4.0     12.0          0   \n",
              "2            1520            WN       1769  ...    4.0      9.0          0   \n",
              "3            1335            OO       3802  ...    4.0     19.0          0   \n",
              "4            1300            WN        399  ...    4.0      8.0          0   \n",
              "...           ...           ...        ...  ...    ...      ...        ...   \n",
              "69995        2149            DL        794  ...   22.0     20.0          0   \n",
              "69996        1314            OO       6159  ...    4.0     13.0          0   \n",
              "69997        1132            YV       7058  ...    7.0     10.0          0   \n",
              "69998        2139            NW        641  ...   20.0     22.0          0   \n",
              "69999        1005            WN        510  ...    2.0     12.0          0   \n",
              "\n",
              "       CancellationCode  Diverted  CarrierDelay WeatherDelay NASDelay  \\\n",
              "0                   NaN         0           NaN          NaN      NaN   \n",
              "1                   NaN         0           NaN          NaN      NaN   \n",
              "2                   NaN         0           NaN          NaN      NaN   \n",
              "3                   NaN         0           NaN          NaN      NaN   \n",
              "4                   NaN         0           NaN          NaN      NaN   \n",
              "...                 ...       ...           ...          ...      ...   \n",
              "69995               NaN         0           NaN          NaN      NaN   \n",
              "69996               NaN         0           0.0          0.0      0.0   \n",
              "69997               NaN         0           NaN          NaN      NaN   \n",
              "69998               NaN         0           0.0          0.0     15.0   \n",
              "69999               NaN         0           NaN          NaN      NaN   \n",
              "\n",
              "       SecurityDelay  LateAircraftDelay  \n",
              "0                NaN                NaN  \n",
              "1                NaN                NaN  \n",
              "2                NaN                NaN  \n",
              "3                NaN                NaN  \n",
              "4                NaN                NaN  \n",
              "...              ...                ...  \n",
              "69995            NaN                NaN  \n",
              "69996            0.0               22.0  \n",
              "69997            NaN                NaN  \n",
              "69998            0.0                6.0  \n",
              "69999            NaN                NaN  \n",
              "\n",
              "[70000 rows x 29 columns]"
            ],
            "text/html": [
              "\n",
              "  <div id=\"df-8b95e4bb-8b6f-4cc3-b229-62c5f44387d1\" class=\"colab-df-container\">\n",
              "    <div>\n",
              "<style scoped>\n",
              "    .dataframe tbody tr th:only-of-type {\n",
              "        vertical-align: middle;\n",
              "    }\n",
              "\n",
              "    .dataframe tbody tr th {\n",
              "        vertical-align: top;\n",
              "    }\n",
              "\n",
              "    .dataframe thead th {\n",
              "        text-align: right;\n",
              "    }\n",
              "</style>\n",
              "<table border=\"1\" class=\"dataframe\">\n",
              "  <thead>\n",
              "    <tr style=\"text-align: right;\">\n",
              "      <th></th>\n",
              "      <th>Year</th>\n",
              "      <th>Month</th>\n",
              "      <th>DayofMonth</th>\n",
              "      <th>DayOfWeek</th>\n",
              "      <th>DepTime</th>\n",
              "      <th>CRSDepTime</th>\n",
              "      <th>ArrTime</th>\n",
              "      <th>CRSArrTime</th>\n",
              "      <th>UniqueCarrier</th>\n",
              "      <th>FlightNum</th>\n",
              "      <th>...</th>\n",
              "      <th>TaxiIn</th>\n",
              "      <th>TaxiOut</th>\n",
              "      <th>Cancelled</th>\n",
              "      <th>CancellationCode</th>\n",
              "      <th>Diverted</th>\n",
              "      <th>CarrierDelay</th>\n",
              "      <th>WeatherDelay</th>\n",
              "      <th>NASDelay</th>\n",
              "      <th>SecurityDelay</th>\n",
              "      <th>LateAircraftDelay</th>\n",
              "    </tr>\n",
              "  </thead>\n",
              "  <tbody>\n",
              "    <tr>\n",
              "      <th>0</th>\n",
              "      <td>2008</td>\n",
              "      <td>6</td>\n",
              "      <td>18</td>\n",
              "      <td>3</td>\n",
              "      <td>2111.0</td>\n",
              "      <td>2055</td>\n",
              "      <td>2308.0</td>\n",
              "      <td>2300</td>\n",
              "      <td>WN</td>\n",
              "      <td>242</td>\n",
              "      <td>...</td>\n",
              "      <td>3.0</td>\n",
              "      <td>8.0</td>\n",
              "      <td>0</td>\n",
              "      <td>NaN</td>\n",
              "      <td>0</td>\n",
              "      <td>NaN</td>\n",
              "      <td>NaN</td>\n",
              "      <td>NaN</td>\n",
              "      <td>NaN</td>\n",
              "      <td>NaN</td>\n",
              "    </tr>\n",
              "    <tr>\n",
              "      <th>1</th>\n",
              "      <td>2008</td>\n",
              "      <td>6</td>\n",
              "      <td>4</td>\n",
              "      <td>3</td>\n",
              "      <td>1426.0</td>\n",
              "      <td>1410</td>\n",
              "      <td>1730.0</td>\n",
              "      <td>1728</td>\n",
              "      <td>XE</td>\n",
              "      <td>2380</td>\n",
              "      <td>...</td>\n",
              "      <td>4.0</td>\n",
              "      <td>12.0</td>\n",
              "      <td>0</td>\n",
              "      <td>NaN</td>\n",
              "      <td>0</td>\n",
              "      <td>NaN</td>\n",
              "      <td>NaN</td>\n",
              "      <td>NaN</td>\n",
              "      <td>NaN</td>\n",
              "      <td>NaN</td>\n",
              "    </tr>\n",
              "    <tr>\n",
              "      <th>2</th>\n",
              "      <td>2008</td>\n",
              "      <td>8</td>\n",
              "      <td>3</td>\n",
              "      <td>7</td>\n",
              "      <td>1143.0</td>\n",
              "      <td>1145</td>\n",
              "      <td>1501.0</td>\n",
              "      <td>1520</td>\n",
              "      <td>WN</td>\n",
              "      <td>1769</td>\n",
              "      <td>...</td>\n",
              "      <td>4.0</td>\n",
              "      <td>9.0</td>\n",
              "      <td>0</td>\n",
              "      <td>NaN</td>\n",
              "      <td>0</td>\n",
              "      <td>NaN</td>\n",
              "      <td>NaN</td>\n",
              "      <td>NaN</td>\n",
              "      <td>NaN</td>\n",
              "      <td>NaN</td>\n",
              "    </tr>\n",
              "    <tr>\n",
              "      <th>3</th>\n",
              "      <td>2008</td>\n",
              "      <td>1</td>\n",
              "      <td>23</td>\n",
              "      <td>3</td>\n",
              "      <td>1141.0</td>\n",
              "      <td>1144</td>\n",
              "      <td>1323.0</td>\n",
              "      <td>1335</td>\n",
              "      <td>OO</td>\n",
              "      <td>3802</td>\n",
              "      <td>...</td>\n",
              "      <td>4.0</td>\n",
              "      <td>19.0</td>\n",
              "      <td>0</td>\n",
              "      <td>NaN</td>\n",
              "      <td>0</td>\n",
              "      <td>NaN</td>\n",
              "      <td>NaN</td>\n",
              "      <td>NaN</td>\n",
              "      <td>NaN</td>\n",
              "      <td>NaN</td>\n",
              "    </tr>\n",
              "    <tr>\n",
              "      <th>4</th>\n",
              "      <td>2008</td>\n",
              "      <td>5</td>\n",
              "      <td>4</td>\n",
              "      <td>7</td>\n",
              "      <td>815.0</td>\n",
              "      <td>820</td>\n",
              "      <td>1243.0</td>\n",
              "      <td>1300</td>\n",
              "      <td>WN</td>\n",
              "      <td>399</td>\n",
              "      <td>...</td>\n",
              "      <td>4.0</td>\n",
              "      <td>8.0</td>\n",
              "      <td>0</td>\n",
              "      <td>NaN</td>\n",
              "      <td>0</td>\n",
              "      <td>NaN</td>\n",
              "      <td>NaN</td>\n",
              "      <td>NaN</td>\n",
              "      <td>NaN</td>\n",
              "      <td>NaN</td>\n",
              "    </tr>\n",
              "    <tr>\n",
              "      <th>...</th>\n",
              "      <td>...</td>\n",
              "      <td>...</td>\n",
              "      <td>...</td>\n",
              "      <td>...</td>\n",
              "      <td>...</td>\n",
              "      <td>...</td>\n",
              "      <td>...</td>\n",
              "      <td>...</td>\n",
              "      <td>...</td>\n",
              "      <td>...</td>\n",
              "      <td>...</td>\n",
              "      <td>...</td>\n",
              "      <td>...</td>\n",
              "      <td>...</td>\n",
              "      <td>...</td>\n",
              "      <td>...</td>\n",
              "      <td>...</td>\n",
              "      <td>...</td>\n",
              "      <td>...</td>\n",
              "      <td>...</td>\n",
              "      <td>...</td>\n",
              "    </tr>\n",
              "    <tr>\n",
              "      <th>69995</th>\n",
              "      <td>2008</td>\n",
              "      <td>5</td>\n",
              "      <td>12</td>\n",
              "      <td>1</td>\n",
              "      <td>1829.0</td>\n",
              "      <td>1840</td>\n",
              "      <td>2137.0</td>\n",
              "      <td>2149</td>\n",
              "      <td>DL</td>\n",
              "      <td>794</td>\n",
              "      <td>...</td>\n",
              "      <td>22.0</td>\n",
              "      <td>20.0</td>\n",
              "      <td>0</td>\n",
              "      <td>NaN</td>\n",
              "      <td>0</td>\n",
              "      <td>NaN</td>\n",
              "      <td>NaN</td>\n",
              "      <td>NaN</td>\n",
              "      <td>NaN</td>\n",
              "      <td>NaN</td>\n",
              "    </tr>\n",
              "    <tr>\n",
              "      <th>69996</th>\n",
              "      <td>2008</td>\n",
              "      <td>5</td>\n",
              "      <td>11</td>\n",
              "      <td>7</td>\n",
              "      <td>1149.0</td>\n",
              "      <td>1125</td>\n",
              "      <td>1336.0</td>\n",
              "      <td>1314</td>\n",
              "      <td>OO</td>\n",
              "      <td>6159</td>\n",
              "      <td>...</td>\n",
              "      <td>4.0</td>\n",
              "      <td>13.0</td>\n",
              "      <td>0</td>\n",
              "      <td>NaN</td>\n",
              "      <td>0</td>\n",
              "      <td>0.0</td>\n",
              "      <td>0.0</td>\n",
              "      <td>0.0</td>\n",
              "      <td>0.0</td>\n",
              "      <td>22.0</td>\n",
              "    </tr>\n",
              "    <tr>\n",
              "      <th>69997</th>\n",
              "      <td>2008</td>\n",
              "      <td>9</td>\n",
              "      <td>24</td>\n",
              "      <td>3</td>\n",
              "      <td>1012.0</td>\n",
              "      <td>1012</td>\n",
              "      <td>1132.0</td>\n",
              "      <td>1132</td>\n",
              "      <td>YV</td>\n",
              "      <td>7058</td>\n",
              "      <td>...</td>\n",
              "      <td>7.0</td>\n",
              "      <td>10.0</td>\n",
              "      <td>0</td>\n",
              "      <td>NaN</td>\n",
              "      <td>0</td>\n",
              "      <td>NaN</td>\n",
              "      <td>NaN</td>\n",
              "      <td>NaN</td>\n",
              "      <td>NaN</td>\n",
              "      <td>NaN</td>\n",
              "    </tr>\n",
              "    <tr>\n",
              "      <th>69998</th>\n",
              "      <td>2008</td>\n",
              "      <td>2</td>\n",
              "      <td>18</td>\n",
              "      <td>1</td>\n",
              "      <td>1906.0</td>\n",
              "      <td>1900</td>\n",
              "      <td>2200.0</td>\n",
              "      <td>2139</td>\n",
              "      <td>NW</td>\n",
              "      <td>641</td>\n",
              "      <td>...</td>\n",
              "      <td>20.0</td>\n",
              "      <td>22.0</td>\n",
              "      <td>0</td>\n",
              "      <td>NaN</td>\n",
              "      <td>0</td>\n",
              "      <td>0.0</td>\n",
              "      <td>0.0</td>\n",
              "      <td>15.0</td>\n",
              "      <td>0.0</td>\n",
              "      <td>6.0</td>\n",
              "    </tr>\n",
              "    <tr>\n",
              "      <th>69999</th>\n",
              "      <td>2008</td>\n",
              "      <td>12</td>\n",
              "      <td>6</td>\n",
              "      <td>6</td>\n",
              "      <td>859.0</td>\n",
              "      <td>900</td>\n",
              "      <td>959.0</td>\n",
              "      <td>1005</td>\n",
              "      <td>WN</td>\n",
              "      <td>510</td>\n",
              "      <td>...</td>\n",
              "      <td>2.0</td>\n",
              "      <td>12.0</td>\n",
              "      <td>0</td>\n",
              "      <td>NaN</td>\n",
              "      <td>0</td>\n",
              "      <td>NaN</td>\n",
              "      <td>NaN</td>\n",
              "      <td>NaN</td>\n",
              "      <td>NaN</td>\n",
              "      <td>NaN</td>\n",
              "    </tr>\n",
              "  </tbody>\n",
              "</table>\n",
              "<p>70000 rows × 29 columns</p>\n",
              "</div>\n",
              "    <div class=\"colab-df-buttons\">\n",
              "\n",
              "  <div class=\"colab-df-container\">\n",
              "    <button class=\"colab-df-convert\" onclick=\"convertToInteractive('df-8b95e4bb-8b6f-4cc3-b229-62c5f44387d1')\"\n",
              "            title=\"Convert this dataframe to an interactive table.\"\n",
              "            style=\"display:none;\">\n",
              "\n",
              "  <svg xmlns=\"http://www.w3.org/2000/svg\" height=\"24px\" viewBox=\"0 -960 960 960\">\n",
              "    <path d=\"M120-120v-720h720v720H120Zm60-500h600v-160H180v160Zm220 220h160v-160H400v160Zm0 220h160v-160H400v160ZM180-400h160v-160H180v160Zm440 0h160v-160H620v160ZM180-180h160v-160H180v160Zm440 0h160v-160H620v160Z\"/>\n",
              "  </svg>\n",
              "    </button>\n",
              "\n",
              "  <style>\n",
              "    .colab-df-container {\n",
              "      display:flex;\n",
              "      gap: 12px;\n",
              "    }\n",
              "\n",
              "    .colab-df-convert {\n",
              "      background-color: #E8F0FE;\n",
              "      border: none;\n",
              "      border-radius: 50%;\n",
              "      cursor: pointer;\n",
              "      display: none;\n",
              "      fill: #1967D2;\n",
              "      height: 32px;\n",
              "      padding: 0 0 0 0;\n",
              "      width: 32px;\n",
              "    }\n",
              "\n",
              "    .colab-df-convert:hover {\n",
              "      background-color: #E2EBFA;\n",
              "      box-shadow: 0px 1px 2px rgba(60, 64, 67, 0.3), 0px 1px 3px 1px rgba(60, 64, 67, 0.15);\n",
              "      fill: #174EA6;\n",
              "    }\n",
              "\n",
              "    .colab-df-buttons div {\n",
              "      margin-bottom: 4px;\n",
              "    }\n",
              "\n",
              "    [theme=dark] .colab-df-convert {\n",
              "      background-color: #3B4455;\n",
              "      fill: #D2E3FC;\n",
              "    }\n",
              "\n",
              "    [theme=dark] .colab-df-convert:hover {\n",
              "      background-color: #434B5C;\n",
              "      box-shadow: 0px 1px 3px 1px rgba(0, 0, 0, 0.15);\n",
              "      filter: drop-shadow(0px 1px 2px rgba(0, 0, 0, 0.3));\n",
              "      fill: #FFFFFF;\n",
              "    }\n",
              "  </style>\n",
              "\n",
              "    <script>\n",
              "      const buttonEl =\n",
              "        document.querySelector('#df-8b95e4bb-8b6f-4cc3-b229-62c5f44387d1 button.colab-df-convert');\n",
              "      buttonEl.style.display =\n",
              "        google.colab.kernel.accessAllowed ? 'block' : 'none';\n",
              "\n",
              "      async function convertToInteractive(key) {\n",
              "        const element = document.querySelector('#df-8b95e4bb-8b6f-4cc3-b229-62c5f44387d1');\n",
              "        const dataTable =\n",
              "          await google.colab.kernel.invokeFunction('convertToInteractive',\n",
              "                                                    [key], {});\n",
              "        if (!dataTable) return;\n",
              "\n",
              "        const docLinkHtml = 'Like what you see? Visit the ' +\n",
              "          '<a target=\"_blank\" href=https://colab.research.google.com/notebooks/data_table.ipynb>data table notebook</a>'\n",
              "          + ' to learn more about interactive tables.';\n",
              "        element.innerHTML = '';\n",
              "        dataTable['output_type'] = 'display_data';\n",
              "        await google.colab.output.renderOutput(dataTable, element);\n",
              "        const docLink = document.createElement('div');\n",
              "        docLink.innerHTML = docLinkHtml;\n",
              "        element.appendChild(docLink);\n",
              "      }\n",
              "    </script>\n",
              "  </div>\n",
              "\n",
              "\n",
              "    <div id=\"df-bc6a94d6-50ad-4646-af57-df19089706a0\">\n",
              "      <button class=\"colab-df-quickchart\" onclick=\"quickchart('df-bc6a94d6-50ad-4646-af57-df19089706a0')\"\n",
              "                title=\"Suggest charts\"\n",
              "                style=\"display:none;\">\n",
              "\n",
              "<svg xmlns=\"http://www.w3.org/2000/svg\" height=\"24px\"viewBox=\"0 0 24 24\"\n",
              "     width=\"24px\">\n",
              "    <g>\n",
              "        <path d=\"M19 3H5c-1.1 0-2 .9-2 2v14c0 1.1.9 2 2 2h14c1.1 0 2-.9 2-2V5c0-1.1-.9-2-2-2zM9 17H7v-7h2v7zm4 0h-2V7h2v10zm4 0h-2v-4h2v4z\"/>\n",
              "    </g>\n",
              "</svg>\n",
              "      </button>\n",
              "\n",
              "<style>\n",
              "  .colab-df-quickchart {\n",
              "      --bg-color: #E8F0FE;\n",
              "      --fill-color: #1967D2;\n",
              "      --hover-bg-color: #E2EBFA;\n",
              "      --hover-fill-color: #174EA6;\n",
              "      --disabled-fill-color: #AAA;\n",
              "      --disabled-bg-color: #DDD;\n",
              "  }\n",
              "\n",
              "  [theme=dark] .colab-df-quickchart {\n",
              "      --bg-color: #3B4455;\n",
              "      --fill-color: #D2E3FC;\n",
              "      --hover-bg-color: #434B5C;\n",
              "      --hover-fill-color: #FFFFFF;\n",
              "      --disabled-bg-color: #3B4455;\n",
              "      --disabled-fill-color: #666;\n",
              "  }\n",
              "\n",
              "  .colab-df-quickchart {\n",
              "    background-color: var(--bg-color);\n",
              "    border: none;\n",
              "    border-radius: 50%;\n",
              "    cursor: pointer;\n",
              "    display: none;\n",
              "    fill: var(--fill-color);\n",
              "    height: 32px;\n",
              "    padding: 0;\n",
              "    width: 32px;\n",
              "  }\n",
              "\n",
              "  .colab-df-quickchart:hover {\n",
              "    background-color: var(--hover-bg-color);\n",
              "    box-shadow: 0 1px 2px rgba(60, 64, 67, 0.3), 0 1px 3px 1px rgba(60, 64, 67, 0.15);\n",
              "    fill: var(--button-hover-fill-color);\n",
              "  }\n",
              "\n",
              "  .colab-df-quickchart-complete:disabled,\n",
              "  .colab-df-quickchart-complete:disabled:hover {\n",
              "    background-color: var(--disabled-bg-color);\n",
              "    fill: var(--disabled-fill-color);\n",
              "    box-shadow: none;\n",
              "  }\n",
              "\n",
              "  .colab-df-spinner {\n",
              "    border: 2px solid var(--fill-color);\n",
              "    border-color: transparent;\n",
              "    border-bottom-color: var(--fill-color);\n",
              "    animation:\n",
              "      spin 1s steps(1) infinite;\n",
              "  }\n",
              "\n",
              "  @keyframes spin {\n",
              "    0% {\n",
              "      border-color: transparent;\n",
              "      border-bottom-color: var(--fill-color);\n",
              "      border-left-color: var(--fill-color);\n",
              "    }\n",
              "    20% {\n",
              "      border-color: transparent;\n",
              "      border-left-color: var(--fill-color);\n",
              "      border-top-color: var(--fill-color);\n",
              "    }\n",
              "    30% {\n",
              "      border-color: transparent;\n",
              "      border-left-color: var(--fill-color);\n",
              "      border-top-color: var(--fill-color);\n",
              "      border-right-color: var(--fill-color);\n",
              "    }\n",
              "    40% {\n",
              "      border-color: transparent;\n",
              "      border-right-color: var(--fill-color);\n",
              "      border-top-color: var(--fill-color);\n",
              "    }\n",
              "    60% {\n",
              "      border-color: transparent;\n",
              "      border-right-color: var(--fill-color);\n",
              "    }\n",
              "    80% {\n",
              "      border-color: transparent;\n",
              "      border-right-color: var(--fill-color);\n",
              "      border-bottom-color: var(--fill-color);\n",
              "    }\n",
              "    90% {\n",
              "      border-color: transparent;\n",
              "      border-bottom-color: var(--fill-color);\n",
              "    }\n",
              "  }\n",
              "</style>\n",
              "\n",
              "      <script>\n",
              "        async function quickchart(key) {\n",
              "          const quickchartButtonEl =\n",
              "            document.querySelector('#' + key + ' button');\n",
              "          quickchartButtonEl.disabled = true;  // To prevent multiple clicks.\n",
              "          quickchartButtonEl.classList.add('colab-df-spinner');\n",
              "          try {\n",
              "            const charts = await google.colab.kernel.invokeFunction(\n",
              "                'suggestCharts', [key], {});\n",
              "          } catch (error) {\n",
              "            console.error('Error during call to suggestCharts:', error);\n",
              "          }\n",
              "          quickchartButtonEl.classList.remove('colab-df-spinner');\n",
              "          quickchartButtonEl.classList.add('colab-df-quickchart-complete');\n",
              "        }\n",
              "        (() => {\n",
              "          let quickchartButtonEl =\n",
              "            document.querySelector('#df-bc6a94d6-50ad-4646-af57-df19089706a0 button');\n",
              "          quickchartButtonEl.style.display =\n",
              "            google.colab.kernel.accessAllowed ? 'block' : 'none';\n",
              "        })();\n",
              "      </script>\n",
              "    </div>\n",
              "    </div>\n",
              "  </div>\n"
            ],
            "application/vnd.google.colaboratory.intrinsic+json": {
              "type": "dataframe",
              "variable_name": "avia"
            }
          },
          "metadata": {},
          "execution_count": 74
        }
      ]
    },
    {
      "cell_type": "code",
      "source": [
        "cancellation_counts = avia['CancellationCode'].value_counts()\n",
        "\n",
        "print(cancellation_counts)\n",
        "\n",
        "most_common_cancellation = cancellation_counts.index[0]\n",
        "most_common_count = cancellation_counts.iloc[0]\n",
        "\n",
        "print(f\"\\nСамая частая причина отмены: '{most_common_cancellation}' ({most_common_count} отмен)\")\n",
        "\n",
        "cancellation_codes = {\n",
        "    'A': 'Airline/Carrier (Авиакомпания)',\n",
        "    'B': 'Weather (Погода)',\n",
        "    'C': 'National Air System (Национальная воздушная система)',\n",
        "    'D': 'Security (Безопасность)'\n",
        "}\n",
        "\n",
        "if most_common_cancellation in cancellation_codes:\n",
        "    print(f\"Расшифровка: {cancellation_codes[most_common_cancellation]}\")"
      ],
      "metadata": {
        "colab": {
          "base_uri": "https://localhost:8080/"
        },
        "id": "itCMjtjD0adW",
        "outputId": "93424e02-d41e-4936-e73b-b2b9ef5cc2ef"
      },
      "execution_count": 75,
      "outputs": [
        {
          "output_type": "stream",
          "name": "stdout",
          "text": [
            "CancellationCode\n",
            "A    563\n",
            "B    549\n",
            "C    299\n",
            "Name: count, dtype: int64\n",
            "\n",
            "Самая частая причина отмены: 'A' (563 отмен)\n",
            "Расшифровка: Airline/Carrier (Авиакомпания)\n"
          ]
        }
      ]
    },
    {
      "cell_type": "markdown",
      "source": [
        "**7. (0.3 балла)** Найдите среднее, минимальное и максимальное расстояние, пройденное самолетом."
      ],
      "metadata": {
        "id": "ZTSFHTqGH-Ln"
      }
    },
    {
      "cell_type": "code",
      "source": [
        "distance_stats = avia['Distance'].describe()\n",
        "\n",
        "print(f\"Среднее расстояние: {distance_stats['mean']:.2f} миль\")\n",
        "print(f\"Минимальное расстояние: {distance_stats['min']:.2f} миль\")\n",
        "print(f\"Максимальное расстояние: {distance_stats['max']:.2f} миль\")\n",
        "print(f\"Медианное расстояние: {distance_stats['50%']:.2f} миль\")\n",
        "print(f\"Стандартное отклонение: {distance_stats['std']:.2f} миль\")"
      ],
      "metadata": {
        "colab": {
          "base_uri": "https://localhost:8080/"
        },
        "id": "ecFBp1dwH-0J",
        "outputId": "11e97bfd-4de9-4d2a-ff67-752fb07ccffd"
      },
      "execution_count": 76,
      "outputs": [
        {
          "output_type": "stream",
          "name": "stdout",
          "text": [
            "Среднее расстояние: 724.51 миль\n",
            "Минимальное расстояние: 31.00 миль\n",
            "Максимальное расстояние: 4962.00 миль\n",
            "Медианное расстояние: 575.00 миль\n",
            "Стандартное отклонение: 565.49 миль\n"
          ]
        }
      ]
    },
    {
      "cell_type": "markdown",
      "source": [
        "**8. (0.3 балла)** Не выглядит ли подозрительным минимальное пройденное расстояние? В какие дни и на каких рейсах оно было? Какое расстояние было пройдено этими же рейсами в другие дни?"
      ],
      "metadata": {
        "id": "qSlgSxiYIljE"
      }
    },
    {
      "cell_type": "code",
      "source": [
        "min_distance = avia['Distance'].min()\n",
        "print(f\"Минимальное расстояние в данных: {min_distance} миль\")\n",
        "\n",
        "min_distance_flights = avia[avia['Distance'] == min_distance]\n",
        "print(f\"\\nКоличество рейсов с минимальным расстоянием: {len(min_distance_flights)}\")\n",
        "\n",
        "print(\"\\n\")\n",
        "print(min_distance_flights[['Year', 'Month', 'DayofMonth', 'Origin', 'Dest', 'FlightNum', 'Distance']])\n",
        "same_flights_other_days = avia[\n",
        "    (avia['FlightNum'].isin(min_distance_flights['FlightNum'])) &\n",
        "    (avia['Distance'] != min_distance)\n",
        "]\n",
        "print(same_flights_other_days[['Year', 'Month', 'DayofMonth', 'Origin', 'Dest', 'FlightNum', 'Distance']])"
      ],
      "metadata": {
        "colab": {
          "base_uri": "https://localhost:8080/"
        },
        "id": "__BA7Jp1ImLv",
        "outputId": "41fb2cb1-a8c1-4e51-a44d-f1bcb1f6e3ed"
      },
      "execution_count": 77,
      "outputs": [
        {
          "output_type": "stream",
          "name": "stdout",
          "text": [
            "Минимальное расстояние в данных: 31 миль\n",
            "\n",
            "Количество рейсов с минимальным расстоянием: 6\n",
            "\n",
            "\n",
            "       Year  Month  DayofMonth Origin Dest  FlightNum  Distance\n",
            "1116   2008     12          30    WRG  PSG         65        31\n",
            "6958   2008     12          26    WRG  PSG         65        31\n",
            "17349  2008      8          18    PSG  WRG         64        31\n",
            "27534  2008      3          11    PSG  WRG         64        31\n",
            "46082  2008      8           9    WRG  PSG         65        31\n",
            "48112  2008      2          28    PSG  WRG         64        31\n",
            "       Year  Month  DayofMonth Origin Dest  FlightNum  Distance\n",
            "501    2008      3          20    ATL  IAD         64       533\n",
            "1389   2008      3          13    KTN  SEA         64       680\n",
            "1517   2008      7          10    SEA  KTN         65       680\n",
            "2619   2008      5          23    LAS  BOS         64      2381\n",
            "3869   2008      7           1    WRG  KTN         64        82\n",
            "...     ...    ...         ...    ...  ...        ...       ...\n",
            "66529  2008     12          21    KTN  WRG         65        82\n",
            "67172  2008      3          22    ATL  IAD         64       533\n",
            "68264  2008      9           7    SJC  LAS         65       386\n",
            "68338  2008      8           3    EWR  LAX         65      2454\n",
            "69305  2008      1           5    JFK  TPA         65      1005\n",
            "\n",
            "[72 rows x 7 columns]\n"
          ]
        }
      ]
    },
    {
      "cell_type": "markdown",
      "source": [
        "**9. (0.3 балла)** Из какого аэропорта было произведено больше всего вылетов? В каком городе он находится?"
      ],
      "metadata": {
        "id": "Lqq6pfwAIsj5"
      }
    },
    {
      "cell_type": "code",
      "source": [
        "departure_counts = avia['Origin'].value_counts()\n",
        "\n",
        "top_airport = departure_counts.index[0]\n",
        "top_departures = departure_counts.iloc[0]\n",
        "\n",
        "print(f\"Аэропорт с наибольшим количеством вылетов: {top_airport}\")\n",
        "print(f\"Количество вылетов: {top_departures}\")"
      ],
      "metadata": {
        "colab": {
          "base_uri": "https://localhost:8080/"
        },
        "id": "TLWZr0ULJIIi",
        "outputId": "f019e682-f1ab-4a71-9403-a82d20d605fc"
      },
      "execution_count": 36,
      "outputs": [
        {
          "output_type": "stream",
          "name": "stdout",
          "text": [
            "Аэропорт с наибольшим количеством вылетов: ATL\n",
            "Количество вылетов: 4134\n"
          ]
        }
      ]
    },
    {
      "cell_type": "markdown",
      "source": [
        "**10. (0.3 балла)** Найдите для каждого аэропорта среднее время полета (`AirTime`) по всем вылетевшим из него рейсам. Какой аэропорт имеет наибольшее значение этого показателя?"
      ],
      "metadata": {
        "id": "8LyfM0SDJvCa"
      }
    },
    {
      "cell_type": "code",
      "source": [
        "avg_airtime = avia.groupby('Origin')['AirTime'].mean()\n",
        "max_airtime_origin = avg_airtime.idxmax()\n",
        "\n",
        "print(f\"Аэропорт с максимальным средним временем полёта: {max_airtime_origin}\")\n",
        "print(f\"\\nМаксимальное среднее время полёта: {avg_airtime[max_airtime_origin]}\")\n",
        "print(f\"\\nСреднее время полёта для всех аэропортов: {avg_airtime}\")"
      ],
      "metadata": {
        "colab": {
          "base_uri": "https://localhost:8080/"
        },
        "id": "W5MTKT0tJv0j",
        "outputId": "d50cee01-9413-4fc9-d50b-f6fb344d07ba"
      },
      "execution_count": 37,
      "outputs": [
        {
          "output_type": "stream",
          "name": "stdout",
          "text": [
            "Аэропорт с максимальным средним временем полёта: SJU\n",
            "\n",
            "Максимальное среднее время полёта: 205.2\n",
            "\n",
            "Среднее время полёта для всех аэропортов: Origin\n",
            "ABE    88.266667\n",
            "ABI    36.400000\n",
            "ABQ    93.454321\n",
            "ABY    35.714286\n",
            "ACK    50.800000\n",
            "         ...    \n",
            "WRG    18.000000\n",
            "XNA    85.945736\n",
            "YAK    35.900000\n",
            "YKM    79.000000\n",
            "YUM    47.470588\n",
            "Name: AirTime, Length: 297, dtype: float64\n"
          ]
        }
      ]
    },
    {
      "cell_type": "markdown",
      "source": [
        "**11. (0.5 балла)** Найдите аэропорт, у которого наибольшая доля задержанных (`DepDelay > 0`) рейсов. Исключите при этом из рассмотрения аэропорты, из которых было отправлено меньше 1000 рейсов (используйте функцию `filter` после `groupby`)."
      ],
      "metadata": {
        "id": "I003LYFdJ2Ha"
      }
    },
    {
      "cell_type": "code",
      "source": [
        "delayed = avia.assign(Delayed = avia['DepDelay'] > 0)\n",
        "\n",
        "result = (\n",
        "    delayed\n",
        "    .groupby('Origin')\n",
        "    .filter(lambda x: len(x) >= 1000)\n",
        "    .groupby('Origin')['Delayed']\n",
        "    .mean()\n",
        ")\n",
        "\n",
        "print(f\"Аэропорт с наибольшей долей задержанных рейсов: {result.idxmax()}\")\n",
        "print(f\"Доля: {result.max()}\")"
      ],
      "metadata": {
        "colab": {
          "base_uri": "https://localhost:8080/"
        },
        "id": "bfqiHaekJ2w_",
        "outputId": "27c8cf45-f3ea-4df9-fc1d-4507fbfde89d"
      },
      "execution_count": 61,
      "outputs": [
        {
          "output_type": "stream",
          "name": "stdout",
          "text": [
            "Аэропорт с наибольшей долей задержанных рейсов: EWR\n",
            "Доля: 0.5111591072714183\n"
          ]
        }
      ]
    },
    {
      "cell_type": "markdown",
      "source": [
        "## Линейная регрессия\n",
        "\n",
        "В этой части мы разберемся с линейной регрессией, способами её обучения и измерением качества ее прогнозов.\n",
        "\n",
        "Будем рассматривать датасет из предыдущей части задания для предсказания времени задержки отправления рейса в минутах (DepDelay). Отметим, что под задержкой подразумевается не только опоздание рейса относительно планируемого времени вылета, но и отправление до планируемого времени.\n",
        "\n",
        "### Подготовка данных\n",
        "\n",
        "**12. (0.5 балла)** Считайте выборку из файла при помощи функции pd.read_csv и ответьте на следующие вопросы:\n",
        "   - Имеются ли в данных пропущенные значения?\n",
        "   - Сколько всего пропущенных элементов в таблице \"объект-признак\"?\n",
        "   - Сколько объектов имеют хотя бы один пропуск?\n",
        "   - Сколько признаков имеют хотя бы одно пропущенное значение?"
      ],
      "metadata": {
        "id": "BICgH1NJ6hu9"
      }
    },
    {
      "cell_type": "code",
      "source": [
        "has_missing_values = avia.isnull().any().any()\n",
        "print(f\"1. Имеются ли в данных пропущенные значения? {'Да' if has_missing_values else 'Нет'}\")\n",
        "\n",
        "total_missing = avia.isnull().sum().sum()\n",
        "print(f\"2. Сколько всего пропущенных элементов в таблице? {total_missing}\")\n",
        "\n",
        "objects_with_missing = avia.isnull().any(axis=1).sum()\n",
        "print(f\"3. Сколько объектов имеют хотя бы один пропуск? {objects_with_missing}\")\n",
        "\n",
        "features_with_missing = avia.isnull().any(axis=0).sum()\n",
        "print(f\"4. Сколько признаков имеют хотя бы одно пропущенное значение? {features_with_missing}\")"
      ],
      "metadata": {
        "colab": {
          "base_uri": "https://localhost:8080/"
        },
        "id": "eJ91onB16lkf",
        "outputId": "edefb3ee-d4b7-4170-f41f-8fb31738efc0"
      },
      "execution_count": 39,
      "outputs": [
        {
          "output_type": "stream",
          "name": "stdout",
          "text": [
            "1. Имеются ли в данных пропущенные значения? Да\n",
            "2. Сколько всего пропущенных элементов в таблице? 355215\n",
            "3. Сколько объектов имеют хотя бы один пропуск? 70000\n",
            "4. Сколько признаков имеют хотя бы одно пропущенное значение? 16\n"
          ]
        }
      ]
    },
    {
      "cell_type": "markdown",
      "source": [
        "Как вы понимаете, также не имеет смысла рассматривать при решении поставленной задачи объекты с пропущенным значением целевой переменной. В связи с этим ответьте на следующие вопросы и выполните соответствующие действия:\n",
        "- Имеются ли пропущенные значения в целевой переменной?\n",
        "- Проанализируйте объекты с пропущенными значениями целевой переменной. Чем вызвано это явление? Что их объединяет? Можно ли в связи с этим, на ваш взгляд, исключить какие-то признаки из рассмотрения? Обоснуйте свою точку зрения.\n",
        "\n",
        "Исключите из выборки объекты **с пропущенным значением целевой переменной и со значением целевой переменной, равным 0**, а также при необходимости исключите признаки в соответствии с вашим ответом на последний вопрос из списка и выделите целевую переменную в отдельный вектор, исключив её из матрицы \"объект-признак\"."
      ],
      "metadata": {
        "id": "Or6RQyDf8QFa"
      }
    },
    {
      "cell_type": "code",
      "source": [
        "missing = avia['DepDelay'].isnull().sum()\n",
        "print(f\"Пропуски в DepDelay: {missing} ({missing/len(avia)*100}%)\")\n",
        "\n",
        "if missing > 0:\n",
        "    missing_data = avia[avia['DepDelay'].isnull()]\n",
        "    print(f\"Из них отменено: {missing_data['Cancelled'].sum()}\")\n",
        "    print(f\"Дивертировано: {missing_data['Diverted'].sum()}\")\n",
        "\n",
        "avia_clean = avia[avia['DepDelay'].notna() & (avia['DepDelay'] != 0)].copy()\n",
        "avia_clean = avia_clean.drop('Cancelled', axis=1, errors='ignore')\n",
        "\n",
        "X = avia_clean.drop('DepDelay', axis=1)\n",
        "y = avia_clean['DepDelay']\n",
        "\n",
        "print(f\"Финальный размер: X{X.shape}, y{y.shape}\")\n",
        "print(f\"DepDelay: mean={y.mean():.1f}, std={y.std():.1f}, min={y.min():.1f}, max={y.max():.1f}\")"
      ],
      "metadata": {
        "colab": {
          "base_uri": "https://localhost:8080/"
        },
        "id": "4_J5itpT8REY",
        "outputId": "98288b40-456a-49f5-99d1-98f90dd4f859"
      },
      "execution_count": 40,
      "outputs": [
        {
          "output_type": "stream",
          "name": "stdout",
          "text": [
            "Пропуски в DepDelay: 1399 (1.9985714285714287%)\n",
            "Из них отменено: 1399\n",
            "Дивертировано: 0\n",
            "Финальный размер: X(63404, 27), y(63404,)\n",
            "DepDelay: mean=10.8, std=36.0, min=-45.0, max=1146.0\n"
          ]
        }
      ]
    },
    {
      "cell_type": "markdown",
      "source": [
        "**13. (0.5 балла)** Обратите внимание, что признаки DepTime, CRSDepTime, ArrTime, CRSArrTime приведены в формате hhmm, в связи с чем будет не вполне корректно рассматривать их как вещественные.\n",
        "\n",
        "Преобразуйте каждый признак FeatureName из указанных в пару новых признаков FeatureName\\_Hour, FeatureName\\_Minute, разделив каждое из значений на часы и минуты. Не забудьте при этом исключить исходный признак из выборки. В случае, если значение признака отсутствует, значения двух новых признаков, его заменяющих, также должны отсутствовать.\n",
        "\n",
        "Например, признак DepTime необходимо заменить на пару признаков DepTime_Hour, DepTime_Minute. При этом, например, значение 155 исходного признака будет преобразовано в значения 1 и 55 признаков DepTime_Hour, DepTime_Minute соответственно."
      ],
      "metadata": {
        "id": "GIbxjWSc-3-m"
      }
    },
    {
      "cell_type": "code",
      "source": [
        "avia_clean = avia[avia['DepDelay'].notna() & (avia['DepDelay'] != 0)].drop('Cancelled', axis=1)\n",
        "X, y = avia_clean.drop('DepDelay', axis=1), avia_clean['DepDelay']\n",
        "\n",
        "print(f\"X{X.shape}, y{y.shape}\")\n",
        "print(f\"DepDelay: a={y.mean():.1f}±{y.std():.1f}\")"
      ],
      "metadata": {
        "colab": {
          "base_uri": "https://localhost:8080/"
        },
        "id": "a95qfnIi-4sB",
        "outputId": "5ec6e0ee-1911-4daa-a369-256cf0d4e27b"
      },
      "execution_count": 41,
      "outputs": [
        {
          "output_type": "stream",
          "name": "stdout",
          "text": [
            "X(63404, 27), y(63404,)\n",
            "DepDelay: a=10.8±36.0\n"
          ]
        }
      ]
    },
    {
      "cell_type": "markdown",
      "source": [
        "**14. (0.5 балла)** Некоторые из признаков, отличных от целевой переменной, могут оказывать чересчур значимое влияние на прогноз, поскольку по своему смыслу содержат большую долю информации о значении целевой переменной. Изучите описание датасета и исключите признаки, сильно коррелирующие с ответами. Ваш выбор признаков для исключения из выборки обоснуйте. Кроме того, исключите признаки TailNum и Year."
      ],
      "metadata": {
        "id": "yNaseS1s_O6c"
      }
    },
    {
      "cell_type": "code",
      "source": [
        "X = X.drop(columns=['TailNum', 'Year'], errors='ignore')\n",
        "\n",
        "leakage_features = [\n",
        "    'CarrierDelay', 'WeatherDelay', 'NASDelay', 'SecurityDelay',\n",
        "    'LateAircraftDelay', 'ArrDelay', 'ActualElapsedTime'\n",
        "]\n",
        "\n",
        "features_to_exclude = [col for col in leakage_features if col in X.columns]\n",
        "X = X.drop(columns=features_to_exclude)\n",
        "\n",
        "print(f\"Финальный размер: {X.shape}\")"
      ],
      "metadata": {
        "colab": {
          "base_uri": "https://localhost:8080/"
        },
        "id": "bRaapX0h_Pom",
        "outputId": "2d5f4fd3-0291-4461-90e3-a372f61c5efd"
      },
      "execution_count": 42,
      "outputs": [
        {
          "output_type": "stream",
          "name": "stdout",
          "text": [
            "Финальный размер: (63404, 18)\n"
          ]
        }
      ]
    },
    {
      "cell_type": "markdown",
      "source": [
        "**15. (1 балл)** Приведем данные к виду, пригодному для обучения линейных моделей. Для этого вещественные признаки надо отмасштабировать, а категориальные — привести к числовому виду. Также надо устранить пропуски в данных."
      ],
      "metadata": {
        "id": "8WBfJaMk_jRP"
      }
    },
    {
      "cell_type": "markdown",
      "source": [
        "В первую очередь поймем, зачем необходимо применять масштабирование. Следующие ячейки с кодом построят гистограммы для 3 вещественных признаков выборки."
      ],
      "metadata": {
        "id": "EBlEYGXp_oZE"
      }
    },
    {
      "cell_type": "code",
      "source": [
        "avia"
      ],
      "metadata": {
        "colab": {
          "base_uri": "https://localhost:8080/",
          "height": 443
        },
        "id": "SD7TegHRxxl2",
        "outputId": "0ffddc15-7fcc-4b96-f313-32a83414df38"
      },
      "execution_count": 62,
      "outputs": [
        {
          "output_type": "execute_result",
          "data": {
            "text/plain": [
              "       Year  Month  DayofMonth  DayOfWeek  DepTime  CRSDepTime  ArrTime  \\\n",
              "0      2008      6          18          3   2111.0        2055   2308.0   \n",
              "1      2008      6           4          3   1426.0        1410   1730.0   \n",
              "2      2008      8           3          7   1143.0        1145   1501.0   \n",
              "3      2008      1          23          3   1141.0        1144   1323.0   \n",
              "4      2008      5           4          7    815.0         820   1243.0   \n",
              "...     ...    ...         ...        ...      ...         ...      ...   \n",
              "69995  2008      5          12          1   1829.0        1840   2137.0   \n",
              "69996  2008      5          11          7   1149.0        1125   1336.0   \n",
              "69997  2008      9          24          3   1012.0        1012   1132.0   \n",
              "69998  2008      2          18          1   1906.0        1900   2200.0   \n",
              "69999  2008     12           6          6    859.0         900    959.0   \n",
              "\n",
              "       CRSArrTime UniqueCarrier  FlightNum  ... TaxiIn  TaxiOut  Cancelled  \\\n",
              "0            2300            WN        242  ...    3.0      8.0          0   \n",
              "1            1728            XE       2380  ...    4.0     12.0          0   \n",
              "2            1520            WN       1769  ...    4.0      9.0          0   \n",
              "3            1335            OO       3802  ...    4.0     19.0          0   \n",
              "4            1300            WN        399  ...    4.0      8.0          0   \n",
              "...           ...           ...        ...  ...    ...      ...        ...   \n",
              "69995        2149            DL        794  ...   22.0     20.0          0   \n",
              "69996        1314            OO       6159  ...    4.0     13.0          0   \n",
              "69997        1132            YV       7058  ...    7.0     10.0          0   \n",
              "69998        2139            NW        641  ...   20.0     22.0          0   \n",
              "69999        1005            WN        510  ...    2.0     12.0          0   \n",
              "\n",
              "       CancellationCode  Diverted  CarrierDelay WeatherDelay NASDelay  \\\n",
              "0                   NaN         0           NaN          NaN      NaN   \n",
              "1                   NaN         0           NaN          NaN      NaN   \n",
              "2                   NaN         0           NaN          NaN      NaN   \n",
              "3                   NaN         0           NaN          NaN      NaN   \n",
              "4                   NaN         0           NaN          NaN      NaN   \n",
              "...                 ...       ...           ...          ...      ...   \n",
              "69995               NaN         0           NaN          NaN      NaN   \n",
              "69996               NaN         0           0.0          0.0      0.0   \n",
              "69997               NaN         0           NaN          NaN      NaN   \n",
              "69998               NaN         0           0.0          0.0     15.0   \n",
              "69999               NaN         0           NaN          NaN      NaN   \n",
              "\n",
              "       SecurityDelay  LateAircraftDelay  \n",
              "0                NaN                NaN  \n",
              "1                NaN                NaN  \n",
              "2                NaN                NaN  \n",
              "3                NaN                NaN  \n",
              "4                NaN                NaN  \n",
              "...              ...                ...  \n",
              "69995            NaN                NaN  \n",
              "69996            0.0               22.0  \n",
              "69997            NaN                NaN  \n",
              "69998            0.0                6.0  \n",
              "69999            NaN                NaN  \n",
              "\n",
              "[70000 rows x 29 columns]"
            ],
            "text/html": [
              "\n",
              "  <div id=\"df-ce2280a0-b655-439b-a603-13b4c50b8d3c\" class=\"colab-df-container\">\n",
              "    <div>\n",
              "<style scoped>\n",
              "    .dataframe tbody tr th:only-of-type {\n",
              "        vertical-align: middle;\n",
              "    }\n",
              "\n",
              "    .dataframe tbody tr th {\n",
              "        vertical-align: top;\n",
              "    }\n",
              "\n",
              "    .dataframe thead th {\n",
              "        text-align: right;\n",
              "    }\n",
              "</style>\n",
              "<table border=\"1\" class=\"dataframe\">\n",
              "  <thead>\n",
              "    <tr style=\"text-align: right;\">\n",
              "      <th></th>\n",
              "      <th>Year</th>\n",
              "      <th>Month</th>\n",
              "      <th>DayofMonth</th>\n",
              "      <th>DayOfWeek</th>\n",
              "      <th>DepTime</th>\n",
              "      <th>CRSDepTime</th>\n",
              "      <th>ArrTime</th>\n",
              "      <th>CRSArrTime</th>\n",
              "      <th>UniqueCarrier</th>\n",
              "      <th>FlightNum</th>\n",
              "      <th>...</th>\n",
              "      <th>TaxiIn</th>\n",
              "      <th>TaxiOut</th>\n",
              "      <th>Cancelled</th>\n",
              "      <th>CancellationCode</th>\n",
              "      <th>Diverted</th>\n",
              "      <th>CarrierDelay</th>\n",
              "      <th>WeatherDelay</th>\n",
              "      <th>NASDelay</th>\n",
              "      <th>SecurityDelay</th>\n",
              "      <th>LateAircraftDelay</th>\n",
              "    </tr>\n",
              "  </thead>\n",
              "  <tbody>\n",
              "    <tr>\n",
              "      <th>0</th>\n",
              "      <td>2008</td>\n",
              "      <td>6</td>\n",
              "      <td>18</td>\n",
              "      <td>3</td>\n",
              "      <td>2111.0</td>\n",
              "      <td>2055</td>\n",
              "      <td>2308.0</td>\n",
              "      <td>2300</td>\n",
              "      <td>WN</td>\n",
              "      <td>242</td>\n",
              "      <td>...</td>\n",
              "      <td>3.0</td>\n",
              "      <td>8.0</td>\n",
              "      <td>0</td>\n",
              "      <td>NaN</td>\n",
              "      <td>0</td>\n",
              "      <td>NaN</td>\n",
              "      <td>NaN</td>\n",
              "      <td>NaN</td>\n",
              "      <td>NaN</td>\n",
              "      <td>NaN</td>\n",
              "    </tr>\n",
              "    <tr>\n",
              "      <th>1</th>\n",
              "      <td>2008</td>\n",
              "      <td>6</td>\n",
              "      <td>4</td>\n",
              "      <td>3</td>\n",
              "      <td>1426.0</td>\n",
              "      <td>1410</td>\n",
              "      <td>1730.0</td>\n",
              "      <td>1728</td>\n",
              "      <td>XE</td>\n",
              "      <td>2380</td>\n",
              "      <td>...</td>\n",
              "      <td>4.0</td>\n",
              "      <td>12.0</td>\n",
              "      <td>0</td>\n",
              "      <td>NaN</td>\n",
              "      <td>0</td>\n",
              "      <td>NaN</td>\n",
              "      <td>NaN</td>\n",
              "      <td>NaN</td>\n",
              "      <td>NaN</td>\n",
              "      <td>NaN</td>\n",
              "    </tr>\n",
              "    <tr>\n",
              "      <th>2</th>\n",
              "      <td>2008</td>\n",
              "      <td>8</td>\n",
              "      <td>3</td>\n",
              "      <td>7</td>\n",
              "      <td>1143.0</td>\n",
              "      <td>1145</td>\n",
              "      <td>1501.0</td>\n",
              "      <td>1520</td>\n",
              "      <td>WN</td>\n",
              "      <td>1769</td>\n",
              "      <td>...</td>\n",
              "      <td>4.0</td>\n",
              "      <td>9.0</td>\n",
              "      <td>0</td>\n",
              "      <td>NaN</td>\n",
              "      <td>0</td>\n",
              "      <td>NaN</td>\n",
              "      <td>NaN</td>\n",
              "      <td>NaN</td>\n",
              "      <td>NaN</td>\n",
              "      <td>NaN</td>\n",
              "    </tr>\n",
              "    <tr>\n",
              "      <th>3</th>\n",
              "      <td>2008</td>\n",
              "      <td>1</td>\n",
              "      <td>23</td>\n",
              "      <td>3</td>\n",
              "      <td>1141.0</td>\n",
              "      <td>1144</td>\n",
              "      <td>1323.0</td>\n",
              "      <td>1335</td>\n",
              "      <td>OO</td>\n",
              "      <td>3802</td>\n",
              "      <td>...</td>\n",
              "      <td>4.0</td>\n",
              "      <td>19.0</td>\n",
              "      <td>0</td>\n",
              "      <td>NaN</td>\n",
              "      <td>0</td>\n",
              "      <td>NaN</td>\n",
              "      <td>NaN</td>\n",
              "      <td>NaN</td>\n",
              "      <td>NaN</td>\n",
              "      <td>NaN</td>\n",
              "    </tr>\n",
              "    <tr>\n",
              "      <th>4</th>\n",
              "      <td>2008</td>\n",
              "      <td>5</td>\n",
              "      <td>4</td>\n",
              "      <td>7</td>\n",
              "      <td>815.0</td>\n",
              "      <td>820</td>\n",
              "      <td>1243.0</td>\n",
              "      <td>1300</td>\n",
              "      <td>WN</td>\n",
              "      <td>399</td>\n",
              "      <td>...</td>\n",
              "      <td>4.0</td>\n",
              "      <td>8.0</td>\n",
              "      <td>0</td>\n",
              "      <td>NaN</td>\n",
              "      <td>0</td>\n",
              "      <td>NaN</td>\n",
              "      <td>NaN</td>\n",
              "      <td>NaN</td>\n",
              "      <td>NaN</td>\n",
              "      <td>NaN</td>\n",
              "    </tr>\n",
              "    <tr>\n",
              "      <th>...</th>\n",
              "      <td>...</td>\n",
              "      <td>...</td>\n",
              "      <td>...</td>\n",
              "      <td>...</td>\n",
              "      <td>...</td>\n",
              "      <td>...</td>\n",
              "      <td>...</td>\n",
              "      <td>...</td>\n",
              "      <td>...</td>\n",
              "      <td>...</td>\n",
              "      <td>...</td>\n",
              "      <td>...</td>\n",
              "      <td>...</td>\n",
              "      <td>...</td>\n",
              "      <td>...</td>\n",
              "      <td>...</td>\n",
              "      <td>...</td>\n",
              "      <td>...</td>\n",
              "      <td>...</td>\n",
              "      <td>...</td>\n",
              "      <td>...</td>\n",
              "    </tr>\n",
              "    <tr>\n",
              "      <th>69995</th>\n",
              "      <td>2008</td>\n",
              "      <td>5</td>\n",
              "      <td>12</td>\n",
              "      <td>1</td>\n",
              "      <td>1829.0</td>\n",
              "      <td>1840</td>\n",
              "      <td>2137.0</td>\n",
              "      <td>2149</td>\n",
              "      <td>DL</td>\n",
              "      <td>794</td>\n",
              "      <td>...</td>\n",
              "      <td>22.0</td>\n",
              "      <td>20.0</td>\n",
              "      <td>0</td>\n",
              "      <td>NaN</td>\n",
              "      <td>0</td>\n",
              "      <td>NaN</td>\n",
              "      <td>NaN</td>\n",
              "      <td>NaN</td>\n",
              "      <td>NaN</td>\n",
              "      <td>NaN</td>\n",
              "    </tr>\n",
              "    <tr>\n",
              "      <th>69996</th>\n",
              "      <td>2008</td>\n",
              "      <td>5</td>\n",
              "      <td>11</td>\n",
              "      <td>7</td>\n",
              "      <td>1149.0</td>\n",
              "      <td>1125</td>\n",
              "      <td>1336.0</td>\n",
              "      <td>1314</td>\n",
              "      <td>OO</td>\n",
              "      <td>6159</td>\n",
              "      <td>...</td>\n",
              "      <td>4.0</td>\n",
              "      <td>13.0</td>\n",
              "      <td>0</td>\n",
              "      <td>NaN</td>\n",
              "      <td>0</td>\n",
              "      <td>0.0</td>\n",
              "      <td>0.0</td>\n",
              "      <td>0.0</td>\n",
              "      <td>0.0</td>\n",
              "      <td>22.0</td>\n",
              "    </tr>\n",
              "    <tr>\n",
              "      <th>69997</th>\n",
              "      <td>2008</td>\n",
              "      <td>9</td>\n",
              "      <td>24</td>\n",
              "      <td>3</td>\n",
              "      <td>1012.0</td>\n",
              "      <td>1012</td>\n",
              "      <td>1132.0</td>\n",
              "      <td>1132</td>\n",
              "      <td>YV</td>\n",
              "      <td>7058</td>\n",
              "      <td>...</td>\n",
              "      <td>7.0</td>\n",
              "      <td>10.0</td>\n",
              "      <td>0</td>\n",
              "      <td>NaN</td>\n",
              "      <td>0</td>\n",
              "      <td>NaN</td>\n",
              "      <td>NaN</td>\n",
              "      <td>NaN</td>\n",
              "      <td>NaN</td>\n",
              "      <td>NaN</td>\n",
              "    </tr>\n",
              "    <tr>\n",
              "      <th>69998</th>\n",
              "      <td>2008</td>\n",
              "      <td>2</td>\n",
              "      <td>18</td>\n",
              "      <td>1</td>\n",
              "      <td>1906.0</td>\n",
              "      <td>1900</td>\n",
              "      <td>2200.0</td>\n",
              "      <td>2139</td>\n",
              "      <td>NW</td>\n",
              "      <td>641</td>\n",
              "      <td>...</td>\n",
              "      <td>20.0</td>\n",
              "      <td>22.0</td>\n",
              "      <td>0</td>\n",
              "      <td>NaN</td>\n",
              "      <td>0</td>\n",
              "      <td>0.0</td>\n",
              "      <td>0.0</td>\n",
              "      <td>15.0</td>\n",
              "      <td>0.0</td>\n",
              "      <td>6.0</td>\n",
              "    </tr>\n",
              "    <tr>\n",
              "      <th>69999</th>\n",
              "      <td>2008</td>\n",
              "      <td>12</td>\n",
              "      <td>6</td>\n",
              "      <td>6</td>\n",
              "      <td>859.0</td>\n",
              "      <td>900</td>\n",
              "      <td>959.0</td>\n",
              "      <td>1005</td>\n",
              "      <td>WN</td>\n",
              "      <td>510</td>\n",
              "      <td>...</td>\n",
              "      <td>2.0</td>\n",
              "      <td>12.0</td>\n",
              "      <td>0</td>\n",
              "      <td>NaN</td>\n",
              "      <td>0</td>\n",
              "      <td>NaN</td>\n",
              "      <td>NaN</td>\n",
              "      <td>NaN</td>\n",
              "      <td>NaN</td>\n",
              "      <td>NaN</td>\n",
              "    </tr>\n",
              "  </tbody>\n",
              "</table>\n",
              "<p>70000 rows × 29 columns</p>\n",
              "</div>\n",
              "    <div class=\"colab-df-buttons\">\n",
              "\n",
              "  <div class=\"colab-df-container\">\n",
              "    <button class=\"colab-df-convert\" onclick=\"convertToInteractive('df-ce2280a0-b655-439b-a603-13b4c50b8d3c')\"\n",
              "            title=\"Convert this dataframe to an interactive table.\"\n",
              "            style=\"display:none;\">\n",
              "\n",
              "  <svg xmlns=\"http://www.w3.org/2000/svg\" height=\"24px\" viewBox=\"0 -960 960 960\">\n",
              "    <path d=\"M120-120v-720h720v720H120Zm60-500h600v-160H180v160Zm220 220h160v-160H400v160Zm0 220h160v-160H400v160ZM180-400h160v-160H180v160Zm440 0h160v-160H620v160ZM180-180h160v-160H180v160Zm440 0h160v-160H620v160Z\"/>\n",
              "  </svg>\n",
              "    </button>\n",
              "\n",
              "  <style>\n",
              "    .colab-df-container {\n",
              "      display:flex;\n",
              "      gap: 12px;\n",
              "    }\n",
              "\n",
              "    .colab-df-convert {\n",
              "      background-color: #E8F0FE;\n",
              "      border: none;\n",
              "      border-radius: 50%;\n",
              "      cursor: pointer;\n",
              "      display: none;\n",
              "      fill: #1967D2;\n",
              "      height: 32px;\n",
              "      padding: 0 0 0 0;\n",
              "      width: 32px;\n",
              "    }\n",
              "\n",
              "    .colab-df-convert:hover {\n",
              "      background-color: #E2EBFA;\n",
              "      box-shadow: 0px 1px 2px rgba(60, 64, 67, 0.3), 0px 1px 3px 1px rgba(60, 64, 67, 0.15);\n",
              "      fill: #174EA6;\n",
              "    }\n",
              "\n",
              "    .colab-df-buttons div {\n",
              "      margin-bottom: 4px;\n",
              "    }\n",
              "\n",
              "    [theme=dark] .colab-df-convert {\n",
              "      background-color: #3B4455;\n",
              "      fill: #D2E3FC;\n",
              "    }\n",
              "\n",
              "    [theme=dark] .colab-df-convert:hover {\n",
              "      background-color: #434B5C;\n",
              "      box-shadow: 0px 1px 3px 1px rgba(0, 0, 0, 0.15);\n",
              "      filter: drop-shadow(0px 1px 2px rgba(0, 0, 0, 0.3));\n",
              "      fill: #FFFFFF;\n",
              "    }\n",
              "  </style>\n",
              "\n",
              "    <script>\n",
              "      const buttonEl =\n",
              "        document.querySelector('#df-ce2280a0-b655-439b-a603-13b4c50b8d3c button.colab-df-convert');\n",
              "      buttonEl.style.display =\n",
              "        google.colab.kernel.accessAllowed ? 'block' : 'none';\n",
              "\n",
              "      async function convertToInteractive(key) {\n",
              "        const element = document.querySelector('#df-ce2280a0-b655-439b-a603-13b4c50b8d3c');\n",
              "        const dataTable =\n",
              "          await google.colab.kernel.invokeFunction('convertToInteractive',\n",
              "                                                    [key], {});\n",
              "        if (!dataTable) return;\n",
              "\n",
              "        const docLinkHtml = 'Like what you see? Visit the ' +\n",
              "          '<a target=\"_blank\" href=https://colab.research.google.com/notebooks/data_table.ipynb>data table notebook</a>'\n",
              "          + ' to learn more about interactive tables.';\n",
              "        element.innerHTML = '';\n",
              "        dataTable['output_type'] = 'display_data';\n",
              "        await google.colab.output.renderOutput(dataTable, element);\n",
              "        const docLink = document.createElement('div');\n",
              "        docLink.innerHTML = docLinkHtml;\n",
              "        element.appendChild(docLink);\n",
              "      }\n",
              "    </script>\n",
              "  </div>\n",
              "\n",
              "\n",
              "    <div id=\"df-9d2f536a-2204-46b4-baf5-86bd5afcc220\">\n",
              "      <button class=\"colab-df-quickchart\" onclick=\"quickchart('df-9d2f536a-2204-46b4-baf5-86bd5afcc220')\"\n",
              "                title=\"Suggest charts\"\n",
              "                style=\"display:none;\">\n",
              "\n",
              "<svg xmlns=\"http://www.w3.org/2000/svg\" height=\"24px\"viewBox=\"0 0 24 24\"\n",
              "     width=\"24px\">\n",
              "    <g>\n",
              "        <path d=\"M19 3H5c-1.1 0-2 .9-2 2v14c0 1.1.9 2 2 2h14c1.1 0 2-.9 2-2V5c0-1.1-.9-2-2-2zM9 17H7v-7h2v7zm4 0h-2V7h2v10zm4 0h-2v-4h2v4z\"/>\n",
              "    </g>\n",
              "</svg>\n",
              "      </button>\n",
              "\n",
              "<style>\n",
              "  .colab-df-quickchart {\n",
              "      --bg-color: #E8F0FE;\n",
              "      --fill-color: #1967D2;\n",
              "      --hover-bg-color: #E2EBFA;\n",
              "      --hover-fill-color: #174EA6;\n",
              "      --disabled-fill-color: #AAA;\n",
              "      --disabled-bg-color: #DDD;\n",
              "  }\n",
              "\n",
              "  [theme=dark] .colab-df-quickchart {\n",
              "      --bg-color: #3B4455;\n",
              "      --fill-color: #D2E3FC;\n",
              "      --hover-bg-color: #434B5C;\n",
              "      --hover-fill-color: #FFFFFF;\n",
              "      --disabled-bg-color: #3B4455;\n",
              "      --disabled-fill-color: #666;\n",
              "  }\n",
              "\n",
              "  .colab-df-quickchart {\n",
              "    background-color: var(--bg-color);\n",
              "    border: none;\n",
              "    border-radius: 50%;\n",
              "    cursor: pointer;\n",
              "    display: none;\n",
              "    fill: var(--fill-color);\n",
              "    height: 32px;\n",
              "    padding: 0;\n",
              "    width: 32px;\n",
              "  }\n",
              "\n",
              "  .colab-df-quickchart:hover {\n",
              "    background-color: var(--hover-bg-color);\n",
              "    box-shadow: 0 1px 2px rgba(60, 64, 67, 0.3), 0 1px 3px 1px rgba(60, 64, 67, 0.15);\n",
              "    fill: var(--button-hover-fill-color);\n",
              "  }\n",
              "\n",
              "  .colab-df-quickchart-complete:disabled,\n",
              "  .colab-df-quickchart-complete:disabled:hover {\n",
              "    background-color: var(--disabled-bg-color);\n",
              "    fill: var(--disabled-fill-color);\n",
              "    box-shadow: none;\n",
              "  }\n",
              "\n",
              "  .colab-df-spinner {\n",
              "    border: 2px solid var(--fill-color);\n",
              "    border-color: transparent;\n",
              "    border-bottom-color: var(--fill-color);\n",
              "    animation:\n",
              "      spin 1s steps(1) infinite;\n",
              "  }\n",
              "\n",
              "  @keyframes spin {\n",
              "    0% {\n",
              "      border-color: transparent;\n",
              "      border-bottom-color: var(--fill-color);\n",
              "      border-left-color: var(--fill-color);\n",
              "    }\n",
              "    20% {\n",
              "      border-color: transparent;\n",
              "      border-left-color: var(--fill-color);\n",
              "      border-top-color: var(--fill-color);\n",
              "    }\n",
              "    30% {\n",
              "      border-color: transparent;\n",
              "      border-left-color: var(--fill-color);\n",
              "      border-top-color: var(--fill-color);\n",
              "      border-right-color: var(--fill-color);\n",
              "    }\n",
              "    40% {\n",
              "      border-color: transparent;\n",
              "      border-right-color: var(--fill-color);\n",
              "      border-top-color: var(--fill-color);\n",
              "    }\n",
              "    60% {\n",
              "      border-color: transparent;\n",
              "      border-right-color: var(--fill-color);\n",
              "    }\n",
              "    80% {\n",
              "      border-color: transparent;\n",
              "      border-right-color: var(--fill-color);\n",
              "      border-bottom-color: var(--fill-color);\n",
              "    }\n",
              "    90% {\n",
              "      border-color: transparent;\n",
              "      border-bottom-color: var(--fill-color);\n",
              "    }\n",
              "  }\n",
              "</style>\n",
              "\n",
              "      <script>\n",
              "        async function quickchart(key) {\n",
              "          const quickchartButtonEl =\n",
              "            document.querySelector('#' + key + ' button');\n",
              "          quickchartButtonEl.disabled = true;  // To prevent multiple clicks.\n",
              "          quickchartButtonEl.classList.add('colab-df-spinner');\n",
              "          try {\n",
              "            const charts = await google.colab.kernel.invokeFunction(\n",
              "                'suggestCharts', [key], {});\n",
              "          } catch (error) {\n",
              "            console.error('Error during call to suggestCharts:', error);\n",
              "          }\n",
              "          quickchartButtonEl.classList.remove('colab-df-spinner');\n",
              "          quickchartButtonEl.classList.add('colab-df-quickchart-complete');\n",
              "        }\n",
              "        (() => {\n",
              "          let quickchartButtonEl =\n",
              "            document.querySelector('#df-9d2f536a-2204-46b4-baf5-86bd5afcc220 button');\n",
              "          quickchartButtonEl.style.display =\n",
              "            google.colab.kernel.accessAllowed ? 'block' : 'none';\n",
              "        })();\n",
              "      </script>\n",
              "    </div>\n",
              "    </div>\n",
              "  </div>\n"
            ],
            "application/vnd.google.colaboratory.intrinsic+json": {
              "type": "dataframe",
              "variable_name": "avia"
            }
          },
          "metadata": {},
          "execution_count": 62
        }
      ]
    },
    {
      "cell_type": "code",
      "source": [
        "X['DepTime_Hour'].hist(bins=20)"
      ],
      "metadata": {
        "colab": {
          "base_uri": "https://localhost:8080/",
          "height": 141
        },
        "id": "ya94MQNI0OYK",
        "outputId": "a5a015b3-7b34-485b-a572-cf7e2ddb49dc"
      },
      "execution_count": 94,
      "outputs": [
        {
          "output_type": "error",
          "ename": "IndexError",
          "evalue": "only integers, slices (`:`), ellipsis (`...`), numpy.newaxis (`None`) and integer or boolean arrays are valid indices",
          "traceback": [
            "\u001b[0;31m---------------------------------------------------------------------------\u001b[0m",
            "\u001b[0;31mIndexError\u001b[0m                                Traceback (most recent call last)",
            "\u001b[0;32m/tmp/ipython-input-2037271479.py\u001b[0m in \u001b[0;36m<cell line: 0>\u001b[0;34m()\u001b[0m\n\u001b[0;32m----> 1\u001b[0;31m \u001b[0mX\u001b[0m\u001b[0;34m[\u001b[0m\u001b[0;34m'DepTime_Hour'\u001b[0m\u001b[0;34m]\u001b[0m\u001b[0;34m.\u001b[0m\u001b[0mhist\u001b[0m\u001b[0;34m(\u001b[0m\u001b[0mbins\u001b[0m\u001b[0;34m=\u001b[0m\u001b[0;36m20\u001b[0m\u001b[0;34m)\u001b[0m\u001b[0;34m\u001b[0m\u001b[0;34m\u001b[0m\u001b[0m\n\u001b[0m",
            "\u001b[0;31mIndexError\u001b[0m: only integers, slices (`:`), ellipsis (`...`), numpy.newaxis (`None`) and integer or boolean arrays are valid indices"
          ]
        }
      ]
    },
    {
      "cell_type": "code",
      "source": [
        "X['TaxiIn'].hist(bins=20)"
      ],
      "metadata": {
        "colab": {
          "base_uri": "https://localhost:8080/",
          "height": 447
        },
        "id": "mjHT-kluCyPI",
        "outputId": "d55ae8a2-ed28-46de-a92d-4ca065d02cf2"
      },
      "execution_count": 21,
      "outputs": [
        {
          "output_type": "execute_result",
          "data": {
            "text/plain": [
              "<Axes: >"
            ]
          },
          "metadata": {},
          "execution_count": 21
        },
        {
          "output_type": "display_data",
          "data": {
            "text/plain": [
              "<Figure size 640x480 with 1 Axes>"
            ],
            "image/png": "[encoded data removed]"
          },
          "metadata": {}
        }
      ]
    },
    {
      "cell_type": "code",
      "source": [
        "X['FlightNum'].hist(bins=20)"
      ],
      "metadata": {
        "colab": {
          "base_uri": "https://localhost:8080/",
          "height": 448
        },
        "id": "Bl1tdhIhCzoa",
        "outputId": "05d63c90-e1d4-4b20-a884-408538fcbcba"
      },
      "execution_count": 22,
      "outputs": [
        {
          "output_type": "execute_result",
          "data": {
            "text/plain": [
              "<Axes: >"
            ]
          },
          "metadata": {},
          "execution_count": 22
        },
        {
          "output_type": "display_data",
          "data": {
            "text/plain": [
              "<Figure size 640x480 with 1 Axes>"
            ],
            "image/png": "[encoded data removed]"
          },
          "metadata": {}
        }
      ]
    },
    {
      "cell_type": "markdown",
      "source": [
        "Какую проблему вы наблюдаете на этих графиках? Как масштабирование поможет её исправить?"
      ],
      "metadata": {
        "id": "eOcPQcmt_t5z"
      }
    },
    {
      "cell_type": "markdown",
      "source": [
        "Некоторые из признаков в нашем датасете являются категориальными. Типичным подходом к работе с ними является бинарное, или [one-hot-кодирование](https://en.wikipedia.org/wiki/One-hot).\n",
        "\n",
        "Реализуйте функцию transform_data, которая принимает на вход DataFrame с признаками и выполняет следующие шаги:\n",
        "1. Замена пропущенных значений на нули для вещественных признаков и на строки 'nan' для категориальных.\n",
        "2. Масштабирование вещественных признаков с помощью [StandardScaler](http://scikit-learn.org/stable/modules/generated/sklearn.preprocessing.StandardScaler.html).\n",
        "3. One-hot-кодирование категориальных признаков с помощью [DictVectorizer](http://scikit-learn.org/stable/modules/generated/sklearn.feature_extraction.DictVectorizer.html) или функции [pd.get_dummies](http://pandas.pydata.org/pandas-docs/stable/generated/pandas.get_dummies.html).\n",
        "\n",
        "Метод должен возвращать преобразованный DataFrame, который должна состоять из масштабированных вещественных признаков и закодированных категориальных (исходные признаки должны быть исключены из выборки)."
      ],
      "metadata": {
        "id": "Hw8rYkYMDJqH"
      }
    },
    {
      "cell_type": "code",
      "source": [
        "from sklearn.preprocessing import StandardScaler\n",
        "from sklearn.feature_extraction import DictVectorizer\n",
        "\n",
        "def transform_data(data):\n",
        "    data_transformed = data.copy()\n",
        "\n",
        "    numeric_features = data_transformed.select_dtypes(include=[np.number]).columns\n",
        "    categorical_features = data_transformed.select_dtypes(include=['object']).columns\n",
        "\n",
        "    data_transformed[numeric_features] = data_transformed[numeric_features].fillna(0)\n",
        "    data_transformed[categorical_features] = data_transformed[categorical_features].fillna('nan')\n",
        "\n",
        "    scaler = StandardScaler()\n",
        "    scaled_numeric = scaler.fit_transform(data_transformed[numeric_features])\n",
        "    data_numeric = pd.DataFrame(scaled_numeric,\n",
        "                               columns=numeric_features,\n",
        "                               index=data_transformed.index)\n",
        "\n",
        "    if len(categorical_features) > 0:\n",
        "        data_categorical = pd.get_dummies(data_transformed[categorical_features],\n",
        "                                         prefix_sep='_')\n",
        "    else:\n",
        "        data_categorical = pd.DataFrame(index=data_transformed.index)\n",
        "\n",
        "    result = pd.concat([data_numeric, data_categorical], axis=1)\n",
        "\n",
        "    return result"
      ],
      "metadata": {
        "id": "IugxHjcHDKbO"
      },
      "execution_count": 46,
      "outputs": []
    },
    {
      "cell_type": "markdown",
      "source": [
        "Примените функцию transform_data к данным. Сколько признаков получилось после преобразования?"
      ],
      "metadata": {
        "id": "LUOz7kQhD6AY"
      }
    },
    {
      "cell_type": "code",
      "source": [
        "X_transformed = transform_data(X)\n",
        "\n",
        "print(f\"Исходное количество признаков: {X.shape[1]}\")\n",
        "print(f\"Количество признаков после преобразования: {X_transformed.shape[1]}\")\n",
        "print(f\"Количество объектов: {X_transformed.shape[0]}\")"
      ],
      "metadata": {
        "colab": {
          "base_uri": "https://localhost:8080/"
        },
        "id": "OWtXQbHyD1iu",
        "outputId": "10741e15-aff8-4af7-da57-7c3631b8f7d7"
      },
      "execution_count": 47,
      "outputs": [
        {
          "output_type": "stream",
          "name": "stdout",
          "text": [
            "Исходное количество признаков: 18\n",
            "Количество признаков после преобразования: 631\n",
            "Количество объектов: 63404\n"
          ]
        }
      ]
    },
    {
      "cell_type": "markdown",
      "source": [
        "**16. (0.5 балла)** Разбейте выборку и вектор целевой переменной на обучение и контроль в отношении 70/30 (для этого можно использовать, например, функцию [train_test_split](http://scikit-learn.org/stable/modules/generated/sklearn.cross_validation.train_test_split.html))."
      ],
      "metadata": {
        "id": "8YcgFqPSD-ij"
      }
    },
    {
      "cell_type": "code",
      "source": [
        "from sklearn.model_selection import train_test_split\n",
        "\n",
        "X_train, X_test, y_train, y_test = train_test_split(\n",
        "    X_transformed, y,\n",
        "    test_size=0.3,\n",
        "    random_state=42\n",
        ")\n",
        "\n",
        "print(f\"Обучающая выборка: {X_train.shape[0]:,} объектов, {X_train.shape[1]} признаков\")\n",
        "print(f\"Контрольная выборка: {X_test.shape[0]:,} объектов, {X_test.shape[1]} признаков\")\n",
        "print(f\"y_train: {y_train.shape[0]:,} значений\")\n",
        "print(f\"y_test: {y_test.shape[0]:,} значений\")\n",
        "print(f\"Доля обучающей выборки: {(X_train.shape[0] / len(X_transformed) * 100):.1f}%\")\n",
        "print(f\"Доля контрольной выборки: {(X_test.shape[0] / len(X_transformed) * 100):.1f}%\")"
      ],
      "metadata": {
        "colab": {
          "base_uri": "https://localhost:8080/"
        },
        "id": "WwT6Chn8D_ZI",
        "outputId": "a671902a-f629-4ca9-ff20-3a2c6d72ad9e"
      },
      "execution_count": 48,
      "outputs": [
        {
          "output_type": "stream",
          "name": "stdout",
          "text": [
            "Обучающая выборка: 44,382 объектов, 631 признаков\n",
            "Контрольная выборка: 19,022 объектов, 631 признаков\n",
            "y_train: 44,382 значений\n",
            "y_test: 19,022 значений\n",
            "Доля обучающей выборки: 70.0%\n",
            "Доля контрольной выборки: 30.0%\n"
          ]
        }
      ]
    },
    {
      "cell_type": "markdown",
      "source": [
        "### Scikit-learn\n",
        "\n",
        "<img src = \"https://pp.vk.me/c4534/u35727827/93547647/x_d31c4463.jpg\">\n",
        "Теперь, когда мы привели данные к пригодному виду, попробуем решить задачу при помощи метода наименьших квадратов. Напомним, что данный метод заключается в оптимизации функционала $MSE$:\n",
        "\n",
        "$$MSE(X, y) = \\frac{1}{l} \\sum_{i=1}^l (<w, x_i> - y_i)^2 \\to \\min_{w},$$\n",
        "\n",
        "где $\\{ (x_i, y_i ) \\}_{i=1}^l$ — обучающая выборка, состоящая из $l$ пар объект-ответ.\n",
        "\n",
        "Заметим, что решение данной задачи уже реализовано в модуле sklearn в виде класса [LinearRegression](http://scikit-learn.org/stable/modules/generated/sklearn.linear_model.LinearRegression.html#sklearn.linear_model.LinearRegression).\n",
        "\n",
        "**17. (0.5 балла)** Обучите линейную регрессию на 1000 объектах из обучающей выборки и выведите значения $MSE$ и $R^2$ на этой подвыборке и контрольной выборке (итого 4 различных числа). Проинтерпретируйте полученный результат — насколько качественные прогнозы строит полученная модель? Какие проблемы наблюдаются в модели?\n",
        "\n",
        "**Подсказка**: изучите значения полученных коэффициентов $w$, сохраненных в атрибуте coef_ объекта LinearRegression."
      ],
      "metadata": {
        "id": "NlMyP6UkEaUZ"
      }
    },
    {
      "cell_type": "code",
      "source": [
        "from sklearn.linear_model import LinearRegression\n",
        "from sklearn.metrics import mean_squared_error, r2_score\n",
        "\n",
        "sample_size = 1000\n",
        "X_train_sample = X_train.iloc[:sample_size]\n",
        "y_train_sample = y_train.iloc[:sample_size]\n",
        "\n",
        "\n",
        "# Обучаем модель\n",
        "model = LinearRegression()\n",
        "model.fit(X_train_sample, y_train_sample)\n",
        "\n",
        "# Прогнозы на подвыборке обучения и контрольной выборке\n",
        "y_train_pred = model.predict(X_train_sample)\n",
        "y_test_pred = model.predict(X_test.iloc[:sample_size])  # берем ту же размерность для сравнения\n",
        "\n",
        "# Вычисляем метрики\n",
        "mse_train = mean_squared_error(y_train_sample, y_train_pred)\n",
        "mse_test = mean_squared_error(y_test.iloc[:sample_size], y_test_pred)\n",
        "r2_train = r2_score(y_train_sample, y_train_pred)\n",
        "r2_test = r2_score(y_test.iloc[:sample_size], y_test_pred)\n",
        "\n",
        "print(\"\\nМетрики качества:\")\n",
        "print(f\"MSE на обучающей подвыборке: {mse_train:.2f}\")\n",
        "print(f\"MSE на контрольной выборке:  {mse_test:.2f}\")\n",
        "print(f\"R² на обучающей подвыборке:  {r2_train:.4f}\")\n",
        "print(f\"R² на контрольной выборке:   {r2_test:.4f}\")\n",
        "\n",
        "# Анализ коэффициентов\n",
        "print(f\"\\nАнализ коэффициентов модели:\")\n",
        "print(f\"Количество коэффициентов: {len(model.coef_)}\")\n",
        "print(f\"Минимальный коэффициент: {model.coef_.min():.6f}\")\n",
        "print(f\"Максимальный коэффициент: {model.coef_.max():.6f}\")\n",
        "print(f\"Среднее абсолютное значение: {np.abs(model.coef_).mean():.6f}\")"
      ],
      "metadata": {
        "colab": {
          "base_uri": "https://localhost:8080/"
        },
        "id": "c1EC4iIFEeX7",
        "outputId": "619f1ef8-3d6d-469c-e63b-1787bed98e72"
      },
      "execution_count": 50,
      "outputs": [
        {
          "output_type": "stream",
          "name": "stdout",
          "text": [
            "\n",
            "Метрики качества:\n",
            "MSE на обучающей подвыборке: 569.30\n",
            "MSE на контрольной выборке:  1333.52\n",
            "R² на обучающей подвыборке:  0.4628\n",
            "R² на контрольной выборке:   -0.2306\n",
            "\n",
            "Анализ коэффициентов модели:\n",
            "Количество коэффициентов: 631\n",
            "Минимальный коэффициент: -51.274490\n",
            "Максимальный коэффициент: 140.732685\n",
            "Среднее абсолютное значение: 7.239573\n"
          ]
        }
      ]
    },
    {
      "cell_type": "markdown",
      "source": [
        "Для решения описанных вами в предыдущем пункте проблем используем L1- или L2-регуляризацию, тем самым получив Lasso и Ridge регрессии соответственно и изменив оптимизационную задачу одним из следующих образов:\n",
        "$$MSE_{L1}(X, y) = \\frac{1}{l} \\sum_{i=1}^l (<w, x_i> - y_i)^2 + \\alpha ||w||_1 \\to \\min_{w},$$\n",
        "$$MSE_{L2}(X, y) = \\frac{1}{l} \\sum_{i=1}^l (<w, x_i> - y_i)^2 + \\alpha ||w||_2^2 \\to \\min_{w},$$\n",
        "\n",
        "где $\\alpha$ — коэффициент регуляризации. Один из способов его подбора заключается в переборе некоторого количества значений и оценке качества на кросс-валидации для каждого из них, после чего выбирается значение, для которого было получено наилучшее качество."
      ],
      "metadata": {
        "id": "7PF8wEhyEq-Y"
      }
    },
    {
      "cell_type": "code",
      "source": [
        "from sklearn.linear_model import Lasso, Ridge\n",
        "from sklearn.model_selection import cross_val_score\n",
        "\n",
        "# Подбор регуляризации\n",
        "alphas = np.logspace(-3, 3, 20)\n",
        "\n",
        "def find_best_alpha(model_class, X, y, alphas):\n",
        "    best_score, best_alpha = -np.inf, None\n",
        "    for alpha in alphas:\n",
        "        scores = cross_val_score(model_class(alpha=alpha), X, y, cv=5, scoring='neg_mean_squared_error')\n",
        "        if scores.mean() > best_score:\n",
        "            best_score, best_alpha = scores.mean(), alpha\n",
        "    return best_alpha, -best_score\n",
        "\n",
        "# Подбор параметров\n",
        "alpha_lasso, mse_lasso = find_best_alpha(Lasso, X_train_sample, y_train_sample, alphas)\n",
        "alpha_ridge, mse_ridge = find_best_alpha(Ridge, X_train_sample, y_train_sample, alphas)\n",
        "\n",
        "print(f\"Lasso: alpha={alpha_lasso:.3f}, MSE={mse_lasso:.1f}\")\n",
        "print(f\"Ridge: alpha={alpha_ridge:.3f}, MSE={mse_ridge:.1f}\")\n",
        "\n",
        "# Обучение моделей\n",
        "lasso = Lasso(alpha=alpha_lasso).fit(X_train_sample, y_train_sample)\n",
        "ridge = Ridge(alpha=alpha_ridge).fit(X_train_sample, y_train_sample)\n",
        "\n",
        "# Сравнение коэффициентов\n",
        "models = [('Linear', model), ('Lasso', lasso), ('Ridge', ridge)]\n",
        "for name, m in models:\n",
        "    non_zero = np.sum(m.coef_ != 0)\n",
        "    mean_coef = np.abs(m.coef_).mean()\n",
        "    print(f\"{name}: {non_zero}/250 ненулевых, mean|coef|={mean_coef:.4f}\")"
      ],
      "metadata": {
        "colab": {
          "base_uri": "https://localhost:8080/"
        },
        "id": "FTsMohI1Er5T",
        "outputId": "54581f1c-e721-4a81-cde4-7fdcf3999d46"
      },
      "execution_count": 51,
      "outputs": [
        {
          "output_type": "stream",
          "name": "stderr",
          "text": [
            "/usr/local/lib/python3.12/dist-packages/sklearn/linear_model/_coordinate_descent.py:695: ConvergenceWarning: Objective did not converge. You might want to increase the number of iterations, check the scale of the features or consider increasing regularisation. Duality gap: 1.221e+02, tolerance: 7.307e+01\n",
            "  model = cd_fast.enet_coordinate_descent(\n",
            "/usr/local/lib/python3.12/dist-packages/sklearn/linear_model/_coordinate_descent.py:695: ConvergenceWarning: Objective did not converge. You might want to increase the number of iterations, check the scale of the features or consider increasing regularisation. Duality gap: 4.272e+02, tolerance: 7.521e+01\n",
            "  model = cd_fast.enet_coordinate_descent(\n",
            "/usr/local/lib/python3.12/dist-packages/sklearn/linear_model/_coordinate_descent.py:695: ConvergenceWarning: Objective did not converge. You might want to increase the number of iterations, check the scale of the features or consider increasing regularisation. Duality gap: 8.567e+02, tolerance: 9.109e+01\n",
            "  model = cd_fast.enet_coordinate_descent(\n",
            "/usr/local/lib/python3.12/dist-packages/sklearn/linear_model/_coordinate_descent.py:695: ConvergenceWarning: Objective did not converge. You might want to increase the number of iterations, check the scale of the features or consider increasing regularisation. Duality gap: 3.533e+03, tolerance: 9.077e+01\n",
            "  model = cd_fast.enet_coordinate_descent(\n",
            "/usr/local/lib/python3.12/dist-packages/sklearn/linear_model/_coordinate_descent.py:695: ConvergenceWarning: Objective did not converge. You might want to increase the number of iterations, check the scale of the features or consider increasing regularisation. Duality gap: 2.587e+02, tolerance: 9.109e+01\n",
            "  model = cd_fast.enet_coordinate_descent(\n",
            "/usr/local/lib/python3.12/dist-packages/sklearn/linear_model/_coordinate_descent.py:695: ConvergenceWarning: Objective did not converge. You might want to increase the number of iterations, check the scale of the features or consider increasing regularisation. Duality gap: 3.175e+02, tolerance: 9.077e+01\n",
            "  model = cd_fast.enet_coordinate_descent(\n"
          ]
        },
        {
          "output_type": "stream",
          "name": "stdout",
          "text": [
            "Lasso: alpha=0.336, MSE=953.0\n",
            "Ridge: alpha=54.556, MSE=933.4\n",
            "Linear: 494/250 ненулевых, mean|coef|=7.2396\n",
            "Lasso: 18/250 ненулевых, mean|coef|=0.1101\n",
            "Ridge: 348/250 ненулевых, mean|coef|=0.4936\n"
          ]
        }
      ]
    },
    {
      "cell_type": "markdown",
      "source": [
        "__18. (1 балл) __ Обучение линейной регрессии.\n",
        "\n",
        "\n",
        "\n",
        "Обучите линейную регрессию с $L_1$ (Lasso) и $L_2$ (Ridge) регуляризаторами (используйте параметры по умолчанию). Посмотрите, какое количество коэффициентов близко к 0 (степень близости к 0 определите сами из разумных пределов). Постройте график зависимости числа ненулевых коэффициентов от коэффицента регуляризации (перебирайте значения по логарифмической сетке от $10^{-3}$ до $10^3$). Согласуются ли результаты с вашими ожиданиями?"
      ],
      "metadata": {
        "id": "-BQ4fuBGFNcr"
      }
    },
    {
      "cell_type": "code",
      "source": [
        "import matplotlib.pyplot as plt\n",
        "alphas = np.logspace(-3, 3, 50)\n",
        "\n",
        "# Анализ коэффициентов\n",
        "lasso_nonzero, ridge_norms = [], []\n",
        "for alpha in alphas:\n",
        "    lasso_nonzero.append(np.sum(np.abs(Lasso(alpha=alpha).fit(X_train_sample, y_train_sample).coef_) > 1e-6))\n",
        "    ridge_norms.append(np.linalg.norm(Ridge(alpha=alpha).fit(X_train_sample, y_train_sample).coef_))\n",
        "\n",
        "# Главные графики\n",
        "plt.figure(figsize=(10, 4))\n",
        "\n",
        "plt.subplot(1, 2, 1)\n",
        "plt.semilogx(alphas, lasso_nonzero, 'r-', linewidth=2)\n",
        "plt.xlabel('Alpha'), plt.ylabel('Ненулевые коэффициенты')\n",
        "plt.title('Lasso: отбор признаков'), plt.grid(alpha=0.3)\n",
        "\n",
        "plt.subplot(1, 2, 2)\n",
        "plt.semilogx(alphas, ridge_norms, 'b-', linewidth=2)\n",
        "plt.xlabel('Alpha'), plt.ylabel('L2-норма коэффициентов')\n",
        "plt.title('Ridge: сжатие коэффициентов'), plt.grid(alpha=0.3)\n",
        "\n",
        "plt.tight_layout()\n",
        "plt.show()"
      ],
      "metadata": {
        "colab": {
          "base_uri": "https://localhost:8080/",
          "height": 407
        },
        "id": "9eed8xNvFOM1",
        "outputId": "c00837a1-fb55-4eb5-e454-d12c29e2045b"
      },
      "execution_count": 59,
      "outputs": [
        {
          "output_type": "display_data",
          "data": {
            "text/plain": [
              "<Figure size 1000x400 with 2 Axes>"
            ],
            "image/png": "[encoded data removed]"
          },
          "metadata": {}
        }
      ]
    },
    {
      "cell_type": "markdown",
      "source": [
        "Посчитайте для Ridge-регрессии следующие метрики: $RMSE$, $MAE$, $R^2$."
      ],
      "metadata": {
        "id": "R5MATeUiFWoP"
      }
    },
    {
      "cell_type": "code",
      "source": [
        "from sklearn.metrics import mean_squared_error, mean_absolute_error, r2_score\n",
        "\n",
        "# Прогнозы Ridge-регрессии\n",
        "y_pred = ridge.predict(X_test.iloc[:sample_size])\n",
        "\n",
        "# Вычисление метрик\n",
        "rmse = np.sqrt(mean_squared_error(y_test.iloc[:sample_size], y_pred))\n",
        "mae = mean_absolute_error(y_test.iloc[:sample_size], y_pred)\n",
        "r2 = r2_score(y_test.iloc[:sample_size], y_pred)\n",
        "\n",
        "print(f\"RMSE: {rmse:.2f}\")\n",
        "print(f\"MAE:  {mae:.2f}\")\n",
        "print(f\"R²:   {r2:.4f}\")"
      ],
      "metadata": {
        "colab": {
          "base_uri": "https://localhost:8080/"
        },
        "id": "4qMA1nX8FXaO",
        "outputId": "4991b564-fdbe-49ba-868d-fbdfa81d814e"
      },
      "execution_count": 54,
      "outputs": [
        {
          "output_type": "stream",
          "name": "stdout",
          "text": [
            "RMSE: 32.51\n",
            "MAE:  18.14\n",
            "R²:   0.0247\n"
          ]
        }
      ]
    },
    {
      "cell_type": "markdown",
      "source": [
        "Подберите на обучающей выборке для Ridge-регрессии коэффициент регуляризации (перебирайте значения по логарифмической сетке от $10^{-3}$ до $10^3$) для каждой из метрик при помощи кросс-валидации c 5 фолдами на тех же 1000 объектах. Для этого воспользуйтесь GridSearchCV и KFold из sklearn. Постройте графики зависимости фукнции потерь от коэффициента регуляризации. Посчитайте те же метрики снова. Заметно ли изменилось качество?\n",
        "\n",
        "Для выполнения данного задания вам могут понадобиться реализованные в библиотеке объекты [LassoCV](http://scikit-learn.org/stable/modules/generated/sklearn.linear_model.LassoCV.html), [RidgeCV](http://scikit-learn.org/stable/modules/generated/sklearn.linear_model.RidgeCV.html) и [KFold](http://scikit-learn.org/stable/modules/generated/sklearn.cross_validation.KFold.html)."
      ],
      "metadata": {
        "id": "eoug_MukFcoU"
      }
    },
    {
      "cell_type": "code",
      "source": [
        "from sklearn.linear_model import RidgeCV\n",
        "from sklearn.model_selection import GridSearchCV, KFold\n",
        "\n",
        "# Подбор alpha для Ridge\n",
        "alphas = np.logspace(-3, 3, 50)\n",
        "kf = KFold(n_splits=5, shuffle=True, random_state=42)\n",
        "\n",
        "# Используем RidgeCV для быстрого подбора\n",
        "ridge_cv = RidgeCV(alphas=alphas, cv=kf, scoring='neg_mean_squared_error')\n",
        "ridge_cv.fit(X_train_sample, y_train_sample)\n",
        "\n",
        "print(f\"Лучший alpha: {ridge_cv.alpha_:.3f}\")\n",
        "\n",
        "# Обучаем с лучшим alpha\n",
        "ridge_optimized = Ridge(alpha=ridge_cv.alpha_)\n",
        "ridge_optimized.fit(X_train_sample, y_train_sample)\n",
        "\n",
        "# Прогнозы и метрики\n",
        "y_pred_opt = ridge_optimized.predict(X_test.iloc[:sample_size])\n",
        "\n",
        "rmse_opt = np.sqrt(mean_squared_error(y_test.iloc[:sample_size], y_pred_opt))\n",
        "mae_opt = mean_absolute_error(y_test.iloc[:sample_size], y_pred_opt)\n",
        "r2_opt = r2_score(y_test.iloc[:sample_size], y_pred_opt)\n",
        "\n",
        "print(f\"После подбора alpha:\")\n",
        "print(f\"RMSE: {rmse_opt:.2f} (было: {rmse:.2f})\")\n",
        "print(f\"MAE:  {mae_opt:.2f} (было: {mae:.2f})\")\n",
        "print(f\"R²:   {r2_opt:.4f} (было: {r2:.4f})\")"
      ],
      "metadata": {
        "colab": {
          "base_uri": "https://localhost:8080/"
        },
        "id": "E4y2bcfcFeih",
        "outputId": "f8ebac95-66b2-432a-e2dc-a2f981baadeb"
      },
      "execution_count": 55,
      "outputs": [
        {
          "output_type": "stream",
          "name": "stdout",
          "text": [
            "Лучший alpha: 79.060\n",
            "После подбора alpha:\n",
            "RMSE: 32.47 (было: 32.51)\n",
            "MAE:  18.07 (было: 18.14)\n",
            "R²:   0.0270 (было: 0.0247)\n"
          ]
        }
      ]
    },
    {
      "cell_type": "markdown",
      "source": [
        "__19. (0.5 балла)__ Поиск объектов-выбросов\n",
        "\n",
        "\n",
        "Как известно, MSE сильно штрафует за большие ошибки на объектах-выбросах. С помощью cross_val_predict сделайте Out-of-Fold предсказания для обучающей выборки. Посчитайте ошибки и посмотрите на их распределение (plt.hist). Что вы видите?"
      ],
      "metadata": {
        "id": "1d2mkIoBFdnK"
      }
    },
    {
      "cell_type": "code",
      "source": [
        "from sklearn.model_selection import cross_val_predict\n",
        "from sklearn.linear_model import Ridge\n",
        "\n",
        "# Out-of-Fold предсказания - получаем прогнозы, где каждый объект предсказан моделью, которая его не видела\n",
        "ridge = Ridge(alpha=0.215443)\n",
        "y_oof = cross_val_predict(ridge, X_train_sample, y_train_sample, cv=5)\n",
        "\n",
        "# Вычисляем ошибки как разницу между фактическими и предсказанными значениями\n",
        "errors = y_train_sample - y_oof\n",
        "\n",
        "# Строим гистограмму распределения ошибок\n",
        "plt.figure(figsize=(10, 6))\n",
        "plt.hist(errors, bins=50, alpha=0.7, color='blue', edgecolor='black')\n",
        "plt.axvline(errors.mean(), color='red', linestyle='--', linewidth=2, label=f'Среднее: {errors.mean():.2f}')\n",
        "plt.xlabel('Ошибка прогноза (минуты)')\n",
        "plt.ylabel('Количество рейсов')\n",
        "plt.title('Распределение ошибок Out-of-Fold прогнозов\\nRidge регрессия')\n",
        "plt.legend()\n",
        "plt.grid(alpha=0.3)\n",
        "plt.show()\n",
        "\n",
        "print(f\"Средняя ошибка: {errors.mean():.2f} минут\")\n",
        "print(f\"Разброс ошибок (STD): {errors.std():.2f} минут\")\n",
        "print(f\"RMSE: {np.sqrt((errors**2).mean()):.2f} минут\")"
      ],
      "metadata": {
        "colab": {
          "base_uri": "https://localhost:8080/",
          "height": 637
        },
        "id": "KRprwSm0HCqi",
        "outputId": "b7826886-916e-4be8-e2fa-92e669157944"
      },
      "execution_count": 60,
      "outputs": [
        {
          "output_type": "display_data",
          "data": {
            "text/plain": [
              "<Figure size 1000x600 with 1 Axes>"
            ],
            "image/png": "[encoded data removed]"
          },
          "metadata": {}
        },
        {
          "output_type": "stream",
          "name": "stdout",
          "text": [
            "Средняя ошибка: 0.48 минут\n",
            "Разброс ошибок (STD): 35.56 минут\n",
            "RMSE: 35.54 минут\n"
          ]
        }
      ]
    }
  ]
}